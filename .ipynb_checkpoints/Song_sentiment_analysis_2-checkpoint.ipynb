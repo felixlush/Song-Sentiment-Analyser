{
  "nbformat": 4,
  "nbformat_minor": 0,
  "metadata": {
    "colab": {
      "provenance": [],
      "gpuType": "T4"
    },
    "kernelspec": {
      "name": "python3",
      "display_name": "Python 3"
    },
    "language_info": {
      "name": "python"
    },
    "accelerator": "GPU",
    "widgets": {
      "application/vnd.jupyter.widget-state+json": {
        "d4c70ecceab648c3a3db715f9999b5f9": {
          "model_module": "@jupyter-widgets/controls",
          "model_name": "HBoxModel",
          "model_module_version": "1.5.0",
          "state": {
            "_dom_classes": [],
            "_model_module": "@jupyter-widgets/controls",
            "_model_module_version": "1.5.0",
            "_model_name": "HBoxModel",
            "_view_count": null,
            "_view_module": "@jupyter-widgets/controls",
            "_view_module_version": "1.5.0",
            "_view_name": "HBoxView",
            "box_style": "",
            "children": [
              "IPY_MODEL_3bab8915ba824efaa2f008f88e61856c",
              "IPY_MODEL_a0c32bcd3ad14050933f41625caccfcb",
              "IPY_MODEL_319a9910a98c488d83a2f56ded64eeeb"
            ],
            "layout": "IPY_MODEL_c77cb1ec74ca4967bd5d3e4bbbac1b30"
          }
        },
        "3bab8915ba824efaa2f008f88e61856c": {
          "model_module": "@jupyter-widgets/controls",
          "model_name": "HTMLModel",
          "model_module_version": "1.5.0",
          "state": {
            "_dom_classes": [],
            "_model_module": "@jupyter-widgets/controls",
            "_model_module_version": "1.5.0",
            "_model_name": "HTMLModel",
            "_view_count": null,
            "_view_module": "@jupyter-widgets/controls",
            "_view_module_version": "1.5.0",
            "_view_name": "HTMLView",
            "description": "",
            "description_tooltip": null,
            "layout": "IPY_MODEL_2ff550ade4994039bf0a76b5a6f18278",
            "placeholder": "​",
            "style": "IPY_MODEL_cdfb7db3d1ac4ac9b3e51606cc9f7d16",
            "value": "tokenizer_config.json: 100%"
          }
        },
        "a0c32bcd3ad14050933f41625caccfcb": {
          "model_module": "@jupyter-widgets/controls",
          "model_name": "FloatProgressModel",
          "model_module_version": "1.5.0",
          "state": {
            "_dom_classes": [],
            "_model_module": "@jupyter-widgets/controls",
            "_model_module_version": "1.5.0",
            "_model_name": "FloatProgressModel",
            "_view_count": null,
            "_view_module": "@jupyter-widgets/controls",
            "_view_module_version": "1.5.0",
            "_view_name": "ProgressView",
            "bar_style": "success",
            "description": "",
            "description_tooltip": null,
            "layout": "IPY_MODEL_a6a24461102042ee87168dbaefb52258",
            "max": 48,
            "min": 0,
            "orientation": "horizontal",
            "style": "IPY_MODEL_eaaaefd7e04042d1bf54d46e17fdd896",
            "value": 48
          }
        },
        "319a9910a98c488d83a2f56ded64eeeb": {
          "model_module": "@jupyter-widgets/controls",
          "model_name": "HTMLModel",
          "model_module_version": "1.5.0",
          "state": {
            "_dom_classes": [],
            "_model_module": "@jupyter-widgets/controls",
            "_model_module_version": "1.5.0",
            "_model_name": "HTMLModel",
            "_view_count": null,
            "_view_module": "@jupyter-widgets/controls",
            "_view_module_version": "1.5.0",
            "_view_name": "HTMLView",
            "description": "",
            "description_tooltip": null,
            "layout": "IPY_MODEL_a48c580377f1418a9dff79053fa8082a",
            "placeholder": "​",
            "style": "IPY_MODEL_b9e73e642135471c92f272411cd61b60",
            "value": " 48.0/48.0 [00:00&lt;00:00, 3.32kB/s]"
          }
        },
        "c77cb1ec74ca4967bd5d3e4bbbac1b30": {
          "model_module": "@jupyter-widgets/base",
          "model_name": "LayoutModel",
          "model_module_version": "1.2.0",
          "state": {
            "_model_module": "@jupyter-widgets/base",
            "_model_module_version": "1.2.0",
            "_model_name": "LayoutModel",
            "_view_count": null,
            "_view_module": "@jupyter-widgets/base",
            "_view_module_version": "1.2.0",
            "_view_name": "LayoutView",
            "align_content": null,
            "align_items": null,
            "align_self": null,
            "border": null,
            "bottom": null,
            "display": null,
            "flex": null,
            "flex_flow": null,
            "grid_area": null,
            "grid_auto_columns": null,
            "grid_auto_flow": null,
            "grid_auto_rows": null,
            "grid_column": null,
            "grid_gap": null,
            "grid_row": null,
            "grid_template_areas": null,
            "grid_template_columns": null,
            "grid_template_rows": null,
            "height": null,
            "justify_content": null,
            "justify_items": null,
            "left": null,
            "margin": null,
            "max_height": null,
            "max_width": null,
            "min_height": null,
            "min_width": null,
            "object_fit": null,
            "object_position": null,
            "order": null,
            "overflow": null,
            "overflow_x": null,
            "overflow_y": null,
            "padding": null,
            "right": null,
            "top": null,
            "visibility": null,
            "width": null
          }
        },
        "2ff550ade4994039bf0a76b5a6f18278": {
          "model_module": "@jupyter-widgets/base",
          "model_name": "LayoutModel",
          "model_module_version": "1.2.0",
          "state": {
            "_model_module": "@jupyter-widgets/base",
            "_model_module_version": "1.2.0",
            "_model_name": "LayoutModel",
            "_view_count": null,
            "_view_module": "@jupyter-widgets/base",
            "_view_module_version": "1.2.0",
            "_view_name": "LayoutView",
            "align_content": null,
            "align_items": null,
            "align_self": null,
            "border": null,
            "bottom": null,
            "display": null,
            "flex": null,
            "flex_flow": null,
            "grid_area": null,
            "grid_auto_columns": null,
            "grid_auto_flow": null,
            "grid_auto_rows": null,
            "grid_column": null,
            "grid_gap": null,
            "grid_row": null,
            "grid_template_areas": null,
            "grid_template_columns": null,
            "grid_template_rows": null,
            "height": null,
            "justify_content": null,
            "justify_items": null,
            "left": null,
            "margin": null,
            "max_height": null,
            "max_width": null,
            "min_height": null,
            "min_width": null,
            "object_fit": null,
            "object_position": null,
            "order": null,
            "overflow": null,
            "overflow_x": null,
            "overflow_y": null,
            "padding": null,
            "right": null,
            "top": null,
            "visibility": null,
            "width": null
          }
        },
        "cdfb7db3d1ac4ac9b3e51606cc9f7d16": {
          "model_module": "@jupyter-widgets/controls",
          "model_name": "DescriptionStyleModel",
          "model_module_version": "1.5.0",
          "state": {
            "_model_module": "@jupyter-widgets/controls",
            "_model_module_version": "1.5.0",
            "_model_name": "DescriptionStyleModel",
            "_view_count": null,
            "_view_module": "@jupyter-widgets/base",
            "_view_module_version": "1.2.0",
            "_view_name": "StyleView",
            "description_width": ""
          }
        },
        "a6a24461102042ee87168dbaefb52258": {
          "model_module": "@jupyter-widgets/base",
          "model_name": "LayoutModel",
          "model_module_version": "1.2.0",
          "state": {
            "_model_module": "@jupyter-widgets/base",
            "_model_module_version": "1.2.0",
            "_model_name": "LayoutModel",
            "_view_count": null,
            "_view_module": "@jupyter-widgets/base",
            "_view_module_version": "1.2.0",
            "_view_name": "LayoutView",
            "align_content": null,
            "align_items": null,
            "align_self": null,
            "border": null,
            "bottom": null,
            "display": null,
            "flex": null,
            "flex_flow": null,
            "grid_area": null,
            "grid_auto_columns": null,
            "grid_auto_flow": null,
            "grid_auto_rows": null,
            "grid_column": null,
            "grid_gap": null,
            "grid_row": null,
            "grid_template_areas": null,
            "grid_template_columns": null,
            "grid_template_rows": null,
            "height": null,
            "justify_content": null,
            "justify_items": null,
            "left": null,
            "margin": null,
            "max_height": null,
            "max_width": null,
            "min_height": null,
            "min_width": null,
            "object_fit": null,
            "object_position": null,
            "order": null,
            "overflow": null,
            "overflow_x": null,
            "overflow_y": null,
            "padding": null,
            "right": null,
            "top": null,
            "visibility": null,
            "width": null
          }
        },
        "eaaaefd7e04042d1bf54d46e17fdd896": {
          "model_module": "@jupyter-widgets/controls",
          "model_name": "ProgressStyleModel",
          "model_module_version": "1.5.0",
          "state": {
            "_model_module": "@jupyter-widgets/controls",
            "_model_module_version": "1.5.0",
            "_model_name": "ProgressStyleModel",
            "_view_count": null,
            "_view_module": "@jupyter-widgets/base",
            "_view_module_version": "1.2.0",
            "_view_name": "StyleView",
            "bar_color": null,
            "description_width": ""
          }
        },
        "a48c580377f1418a9dff79053fa8082a": {
          "model_module": "@jupyter-widgets/base",
          "model_name": "LayoutModel",
          "model_module_version": "1.2.0",
          "state": {
            "_model_module": "@jupyter-widgets/base",
            "_model_module_version": "1.2.0",
            "_model_name": "LayoutModel",
            "_view_count": null,
            "_view_module": "@jupyter-widgets/base",
            "_view_module_version": "1.2.0",
            "_view_name": "LayoutView",
            "align_content": null,
            "align_items": null,
            "align_self": null,
            "border": null,
            "bottom": null,
            "display": null,
            "flex": null,
            "flex_flow": null,
            "grid_area": null,
            "grid_auto_columns": null,
            "grid_auto_flow": null,
            "grid_auto_rows": null,
            "grid_column": null,
            "grid_gap": null,
            "grid_row": null,
            "grid_template_areas": null,
            "grid_template_columns": null,
            "grid_template_rows": null,
            "height": null,
            "justify_content": null,
            "justify_items": null,
            "left": null,
            "margin": null,
            "max_height": null,
            "max_width": null,
            "min_height": null,
            "min_width": null,
            "object_fit": null,
            "object_position": null,
            "order": null,
            "overflow": null,
            "overflow_x": null,
            "overflow_y": null,
            "padding": null,
            "right": null,
            "top": null,
            "visibility": null,
            "width": null
          }
        },
        "b9e73e642135471c92f272411cd61b60": {
          "model_module": "@jupyter-widgets/controls",
          "model_name": "DescriptionStyleModel",
          "model_module_version": "1.5.0",
          "state": {
            "_model_module": "@jupyter-widgets/controls",
            "_model_module_version": "1.5.0",
            "_model_name": "DescriptionStyleModel",
            "_view_count": null,
            "_view_module": "@jupyter-widgets/base",
            "_view_module_version": "1.2.0",
            "_view_name": "StyleView",
            "description_width": ""
          }
        },
        "39ba7639cd9d4b7396ac38cf3b2ef021": {
          "model_module": "@jupyter-widgets/controls",
          "model_name": "HBoxModel",
          "model_module_version": "1.5.0",
          "state": {
            "_dom_classes": [],
            "_model_module": "@jupyter-widgets/controls",
            "_model_module_version": "1.5.0",
            "_model_name": "HBoxModel",
            "_view_count": null,
            "_view_module": "@jupyter-widgets/controls",
            "_view_module_version": "1.5.0",
            "_view_name": "HBoxView",
            "box_style": "",
            "children": [
              "IPY_MODEL_a818d507bcf4447c8cdb025773df43c9",
              "IPY_MODEL_45a08526271045dcbb88c00008849fc9",
              "IPY_MODEL_496e94cc3a4e4b9098fcec12e898c278"
            ],
            "layout": "IPY_MODEL_233a7cf5970a47f9b045897d39fc41f6"
          }
        },
        "a818d507bcf4447c8cdb025773df43c9": {
          "model_module": "@jupyter-widgets/controls",
          "model_name": "HTMLModel",
          "model_module_version": "1.5.0",
          "state": {
            "_dom_classes": [],
            "_model_module": "@jupyter-widgets/controls",
            "_model_module_version": "1.5.0",
            "_model_name": "HTMLModel",
            "_view_count": null,
            "_view_module": "@jupyter-widgets/controls",
            "_view_module_version": "1.5.0",
            "_view_name": "HTMLView",
            "description": "",
            "description_tooltip": null,
            "layout": "IPY_MODEL_595250260d414d2fb4e2e2e5fd3bb527",
            "placeholder": "​",
            "style": "IPY_MODEL_d4acda4972c14cd1bc320627f5d2d885",
            "value": "vocab.txt: 100%"
          }
        },
        "45a08526271045dcbb88c00008849fc9": {
          "model_module": "@jupyter-widgets/controls",
          "model_name": "FloatProgressModel",
          "model_module_version": "1.5.0",
          "state": {
            "_dom_classes": [],
            "_model_module": "@jupyter-widgets/controls",
            "_model_module_version": "1.5.0",
            "_model_name": "FloatProgressModel",
            "_view_count": null,
            "_view_module": "@jupyter-widgets/controls",
            "_view_module_version": "1.5.0",
            "_view_name": "ProgressView",
            "bar_style": "success",
            "description": "",
            "description_tooltip": null,
            "layout": "IPY_MODEL_21acb6cfb45443899d367eb4a43e180e",
            "max": 231508,
            "min": 0,
            "orientation": "horizontal",
            "style": "IPY_MODEL_1996f224bad44f56a557682b9861e01f",
            "value": 231508
          }
        },
        "496e94cc3a4e4b9098fcec12e898c278": {
          "model_module": "@jupyter-widgets/controls",
          "model_name": "HTMLModel",
          "model_module_version": "1.5.0",
          "state": {
            "_dom_classes": [],
            "_model_module": "@jupyter-widgets/controls",
            "_model_module_version": "1.5.0",
            "_model_name": "HTMLModel",
            "_view_count": null,
            "_view_module": "@jupyter-widgets/controls",
            "_view_module_version": "1.5.0",
            "_view_name": "HTMLView",
            "description": "",
            "description_tooltip": null,
            "layout": "IPY_MODEL_04a1d633e8fe4b4ba965b1f05e493119",
            "placeholder": "​",
            "style": "IPY_MODEL_4d6d9d409aa248c1b5905b54c740dd76",
            "value": " 232k/232k [00:00&lt;00:00, 512kB/s]"
          }
        },
        "233a7cf5970a47f9b045897d39fc41f6": {
          "model_module": "@jupyter-widgets/base",
          "model_name": "LayoutModel",
          "model_module_version": "1.2.0",
          "state": {
            "_model_module": "@jupyter-widgets/base",
            "_model_module_version": "1.2.0",
            "_model_name": "LayoutModel",
            "_view_count": null,
            "_view_module": "@jupyter-widgets/base",
            "_view_module_version": "1.2.0",
            "_view_name": "LayoutView",
            "align_content": null,
            "align_items": null,
            "align_self": null,
            "border": null,
            "bottom": null,
            "display": null,
            "flex": null,
            "flex_flow": null,
            "grid_area": null,
            "grid_auto_columns": null,
            "grid_auto_flow": null,
            "grid_auto_rows": null,
            "grid_column": null,
            "grid_gap": null,
            "grid_row": null,
            "grid_template_areas": null,
            "grid_template_columns": null,
            "grid_template_rows": null,
            "height": null,
            "justify_content": null,
            "justify_items": null,
            "left": null,
            "margin": null,
            "max_height": null,
            "max_width": null,
            "min_height": null,
            "min_width": null,
            "object_fit": null,
            "object_position": null,
            "order": null,
            "overflow": null,
            "overflow_x": null,
            "overflow_y": null,
            "padding": null,
            "right": null,
            "top": null,
            "visibility": null,
            "width": null
          }
        },
        "595250260d414d2fb4e2e2e5fd3bb527": {
          "model_module": "@jupyter-widgets/base",
          "model_name": "LayoutModel",
          "model_module_version": "1.2.0",
          "state": {
            "_model_module": "@jupyter-widgets/base",
            "_model_module_version": "1.2.0",
            "_model_name": "LayoutModel",
            "_view_count": null,
            "_view_module": "@jupyter-widgets/base",
            "_view_module_version": "1.2.0",
            "_view_name": "LayoutView",
            "align_content": null,
            "align_items": null,
            "align_self": null,
            "border": null,
            "bottom": null,
            "display": null,
            "flex": null,
            "flex_flow": null,
            "grid_area": null,
            "grid_auto_columns": null,
            "grid_auto_flow": null,
            "grid_auto_rows": null,
            "grid_column": null,
            "grid_gap": null,
            "grid_row": null,
            "grid_template_areas": null,
            "grid_template_columns": null,
            "grid_template_rows": null,
            "height": null,
            "justify_content": null,
            "justify_items": null,
            "left": null,
            "margin": null,
            "max_height": null,
            "max_width": null,
            "min_height": null,
            "min_width": null,
            "object_fit": null,
            "object_position": null,
            "order": null,
            "overflow": null,
            "overflow_x": null,
            "overflow_y": null,
            "padding": null,
            "right": null,
            "top": null,
            "visibility": null,
            "width": null
          }
        },
        "d4acda4972c14cd1bc320627f5d2d885": {
          "model_module": "@jupyter-widgets/controls",
          "model_name": "DescriptionStyleModel",
          "model_module_version": "1.5.0",
          "state": {
            "_model_module": "@jupyter-widgets/controls",
            "_model_module_version": "1.5.0",
            "_model_name": "DescriptionStyleModel",
            "_view_count": null,
            "_view_module": "@jupyter-widgets/base",
            "_view_module_version": "1.2.0",
            "_view_name": "StyleView",
            "description_width": ""
          }
        },
        "21acb6cfb45443899d367eb4a43e180e": {
          "model_module": "@jupyter-widgets/base",
          "model_name": "LayoutModel",
          "model_module_version": "1.2.0",
          "state": {
            "_model_module": "@jupyter-widgets/base",
            "_model_module_version": "1.2.0",
            "_model_name": "LayoutModel",
            "_view_count": null,
            "_view_module": "@jupyter-widgets/base",
            "_view_module_version": "1.2.0",
            "_view_name": "LayoutView",
            "align_content": null,
            "align_items": null,
            "align_self": null,
            "border": null,
            "bottom": null,
            "display": null,
            "flex": null,
            "flex_flow": null,
            "grid_area": null,
            "grid_auto_columns": null,
            "grid_auto_flow": null,
            "grid_auto_rows": null,
            "grid_column": null,
            "grid_gap": null,
            "grid_row": null,
            "grid_template_areas": null,
            "grid_template_columns": null,
            "grid_template_rows": null,
            "height": null,
            "justify_content": null,
            "justify_items": null,
            "left": null,
            "margin": null,
            "max_height": null,
            "max_width": null,
            "min_height": null,
            "min_width": null,
            "object_fit": null,
            "object_position": null,
            "order": null,
            "overflow": null,
            "overflow_x": null,
            "overflow_y": null,
            "padding": null,
            "right": null,
            "top": null,
            "visibility": null,
            "width": null
          }
        },
        "1996f224bad44f56a557682b9861e01f": {
          "model_module": "@jupyter-widgets/controls",
          "model_name": "ProgressStyleModel",
          "model_module_version": "1.5.0",
          "state": {
            "_model_module": "@jupyter-widgets/controls",
            "_model_module_version": "1.5.0",
            "_model_name": "ProgressStyleModel",
            "_view_count": null,
            "_view_module": "@jupyter-widgets/base",
            "_view_module_version": "1.2.0",
            "_view_name": "StyleView",
            "bar_color": null,
            "description_width": ""
          }
        },
        "04a1d633e8fe4b4ba965b1f05e493119": {
          "model_module": "@jupyter-widgets/base",
          "model_name": "LayoutModel",
          "model_module_version": "1.2.0",
          "state": {
            "_model_module": "@jupyter-widgets/base",
            "_model_module_version": "1.2.0",
            "_model_name": "LayoutModel",
            "_view_count": null,
            "_view_module": "@jupyter-widgets/base",
            "_view_module_version": "1.2.0",
            "_view_name": "LayoutView",
            "align_content": null,
            "align_items": null,
            "align_self": null,
            "border": null,
            "bottom": null,
            "display": null,
            "flex": null,
            "flex_flow": null,
            "grid_area": null,
            "grid_auto_columns": null,
            "grid_auto_flow": null,
            "grid_auto_rows": null,
            "grid_column": null,
            "grid_gap": null,
            "grid_row": null,
            "grid_template_areas": null,
            "grid_template_columns": null,
            "grid_template_rows": null,
            "height": null,
            "justify_content": null,
            "justify_items": null,
            "left": null,
            "margin": null,
            "max_height": null,
            "max_width": null,
            "min_height": null,
            "min_width": null,
            "object_fit": null,
            "object_position": null,
            "order": null,
            "overflow": null,
            "overflow_x": null,
            "overflow_y": null,
            "padding": null,
            "right": null,
            "top": null,
            "visibility": null,
            "width": null
          }
        },
        "4d6d9d409aa248c1b5905b54c740dd76": {
          "model_module": "@jupyter-widgets/controls",
          "model_name": "DescriptionStyleModel",
          "model_module_version": "1.5.0",
          "state": {
            "_model_module": "@jupyter-widgets/controls",
            "_model_module_version": "1.5.0",
            "_model_name": "DescriptionStyleModel",
            "_view_count": null,
            "_view_module": "@jupyter-widgets/base",
            "_view_module_version": "1.2.0",
            "_view_name": "StyleView",
            "description_width": ""
          }
        },
        "1e2a5de583f2462489b09596eecbbc03": {
          "model_module": "@jupyter-widgets/controls",
          "model_name": "HBoxModel",
          "model_module_version": "1.5.0",
          "state": {
            "_dom_classes": [],
            "_model_module": "@jupyter-widgets/controls",
            "_model_module_version": "1.5.0",
            "_model_name": "HBoxModel",
            "_view_count": null,
            "_view_module": "@jupyter-widgets/controls",
            "_view_module_version": "1.5.0",
            "_view_name": "HBoxView",
            "box_style": "",
            "children": [
              "IPY_MODEL_f7563a977c4d4df183da980dceba28cf",
              "IPY_MODEL_d07092badc864609855483d9611d4dd3",
              "IPY_MODEL_0afe70c65ede446491aa7c0a109ad75e"
            ],
            "layout": "IPY_MODEL_430b61b2a9834314b2b0fd4246000961"
          }
        },
        "f7563a977c4d4df183da980dceba28cf": {
          "model_module": "@jupyter-widgets/controls",
          "model_name": "HTMLModel",
          "model_module_version": "1.5.0",
          "state": {
            "_dom_classes": [],
            "_model_module": "@jupyter-widgets/controls",
            "_model_module_version": "1.5.0",
            "_model_name": "HTMLModel",
            "_view_count": null,
            "_view_module": "@jupyter-widgets/controls",
            "_view_module_version": "1.5.0",
            "_view_name": "HTMLView",
            "description": "",
            "description_tooltip": null,
            "layout": "IPY_MODEL_38281261c28a416aaa5b1582a2ad17ae",
            "placeholder": "​",
            "style": "IPY_MODEL_199b569cab5542a886c86a8982cf4b50",
            "value": "tokenizer.json: 100%"
          }
        },
        "d07092badc864609855483d9611d4dd3": {
          "model_module": "@jupyter-widgets/controls",
          "model_name": "FloatProgressModel",
          "model_module_version": "1.5.0",
          "state": {
            "_dom_classes": [],
            "_model_module": "@jupyter-widgets/controls",
            "_model_module_version": "1.5.0",
            "_model_name": "FloatProgressModel",
            "_view_count": null,
            "_view_module": "@jupyter-widgets/controls",
            "_view_module_version": "1.5.0",
            "_view_name": "ProgressView",
            "bar_style": "success",
            "description": "",
            "description_tooltip": null,
            "layout": "IPY_MODEL_9b4b05461fa945a6a43e9bc1a9f809c1",
            "max": 466062,
            "min": 0,
            "orientation": "horizontal",
            "style": "IPY_MODEL_5e14d266d9a745a8871961672e2df7ec",
            "value": 466062
          }
        },
        "0afe70c65ede446491aa7c0a109ad75e": {
          "model_module": "@jupyter-widgets/controls",
          "model_name": "HTMLModel",
          "model_module_version": "1.5.0",
          "state": {
            "_dom_classes": [],
            "_model_module": "@jupyter-widgets/controls",
            "_model_module_version": "1.5.0",
            "_model_name": "HTMLModel",
            "_view_count": null,
            "_view_module": "@jupyter-widgets/controls",
            "_view_module_version": "1.5.0",
            "_view_name": "HTMLView",
            "description": "",
            "description_tooltip": null,
            "layout": "IPY_MODEL_fb8f77af0a95400797c1cd3a88b75647",
            "placeholder": "​",
            "style": "IPY_MODEL_79c9ad3f3a064aeb90ea6564d3c9a0e6",
            "value": " 466k/466k [00:00&lt;00:00, 2.13MB/s]"
          }
        },
        "430b61b2a9834314b2b0fd4246000961": {
          "model_module": "@jupyter-widgets/base",
          "model_name": "LayoutModel",
          "model_module_version": "1.2.0",
          "state": {
            "_model_module": "@jupyter-widgets/base",
            "_model_module_version": "1.2.0",
            "_model_name": "LayoutModel",
            "_view_count": null,
            "_view_module": "@jupyter-widgets/base",
            "_view_module_version": "1.2.0",
            "_view_name": "LayoutView",
            "align_content": null,
            "align_items": null,
            "align_self": null,
            "border": null,
            "bottom": null,
            "display": null,
            "flex": null,
            "flex_flow": null,
            "grid_area": null,
            "grid_auto_columns": null,
            "grid_auto_flow": null,
            "grid_auto_rows": null,
            "grid_column": null,
            "grid_gap": null,
            "grid_row": null,
            "grid_template_areas": null,
            "grid_template_columns": null,
            "grid_template_rows": null,
            "height": null,
            "justify_content": null,
            "justify_items": null,
            "left": null,
            "margin": null,
            "max_height": null,
            "max_width": null,
            "min_height": null,
            "min_width": null,
            "object_fit": null,
            "object_position": null,
            "order": null,
            "overflow": null,
            "overflow_x": null,
            "overflow_y": null,
            "padding": null,
            "right": null,
            "top": null,
            "visibility": null,
            "width": null
          }
        },
        "38281261c28a416aaa5b1582a2ad17ae": {
          "model_module": "@jupyter-widgets/base",
          "model_name": "LayoutModel",
          "model_module_version": "1.2.0",
          "state": {
            "_model_module": "@jupyter-widgets/base",
            "_model_module_version": "1.2.0",
            "_model_name": "LayoutModel",
            "_view_count": null,
            "_view_module": "@jupyter-widgets/base",
            "_view_module_version": "1.2.0",
            "_view_name": "LayoutView",
            "align_content": null,
            "align_items": null,
            "align_self": null,
            "border": null,
            "bottom": null,
            "display": null,
            "flex": null,
            "flex_flow": null,
            "grid_area": null,
            "grid_auto_columns": null,
            "grid_auto_flow": null,
            "grid_auto_rows": null,
            "grid_column": null,
            "grid_gap": null,
            "grid_row": null,
            "grid_template_areas": null,
            "grid_template_columns": null,
            "grid_template_rows": null,
            "height": null,
            "justify_content": null,
            "justify_items": null,
            "left": null,
            "margin": null,
            "max_height": null,
            "max_width": null,
            "min_height": null,
            "min_width": null,
            "object_fit": null,
            "object_position": null,
            "order": null,
            "overflow": null,
            "overflow_x": null,
            "overflow_y": null,
            "padding": null,
            "right": null,
            "top": null,
            "visibility": null,
            "width": null
          }
        },
        "199b569cab5542a886c86a8982cf4b50": {
          "model_module": "@jupyter-widgets/controls",
          "model_name": "DescriptionStyleModel",
          "model_module_version": "1.5.0",
          "state": {
            "_model_module": "@jupyter-widgets/controls",
            "_model_module_version": "1.5.0",
            "_model_name": "DescriptionStyleModel",
            "_view_count": null,
            "_view_module": "@jupyter-widgets/base",
            "_view_module_version": "1.2.0",
            "_view_name": "StyleView",
            "description_width": ""
          }
        },
        "9b4b05461fa945a6a43e9bc1a9f809c1": {
          "model_module": "@jupyter-widgets/base",
          "model_name": "LayoutModel",
          "model_module_version": "1.2.0",
          "state": {
            "_model_module": "@jupyter-widgets/base",
            "_model_module_version": "1.2.0",
            "_model_name": "LayoutModel",
            "_view_count": null,
            "_view_module": "@jupyter-widgets/base",
            "_view_module_version": "1.2.0",
            "_view_name": "LayoutView",
            "align_content": null,
            "align_items": null,
            "align_self": null,
            "border": null,
            "bottom": null,
            "display": null,
            "flex": null,
            "flex_flow": null,
            "grid_area": null,
            "grid_auto_columns": null,
            "grid_auto_flow": null,
            "grid_auto_rows": null,
            "grid_column": null,
            "grid_gap": null,
            "grid_row": null,
            "grid_template_areas": null,
            "grid_template_columns": null,
            "grid_template_rows": null,
            "height": null,
            "justify_content": null,
            "justify_items": null,
            "left": null,
            "margin": null,
            "max_height": null,
            "max_width": null,
            "min_height": null,
            "min_width": null,
            "object_fit": null,
            "object_position": null,
            "order": null,
            "overflow": null,
            "overflow_x": null,
            "overflow_y": null,
            "padding": null,
            "right": null,
            "top": null,
            "visibility": null,
            "width": null
          }
        },
        "5e14d266d9a745a8871961672e2df7ec": {
          "model_module": "@jupyter-widgets/controls",
          "model_name": "ProgressStyleModel",
          "model_module_version": "1.5.0",
          "state": {
            "_model_module": "@jupyter-widgets/controls",
            "_model_module_version": "1.5.0",
            "_model_name": "ProgressStyleModel",
            "_view_count": null,
            "_view_module": "@jupyter-widgets/base",
            "_view_module_version": "1.2.0",
            "_view_name": "StyleView",
            "bar_color": null,
            "description_width": ""
          }
        },
        "fb8f77af0a95400797c1cd3a88b75647": {
          "model_module": "@jupyter-widgets/base",
          "model_name": "LayoutModel",
          "model_module_version": "1.2.0",
          "state": {
            "_model_module": "@jupyter-widgets/base",
            "_model_module_version": "1.2.0",
            "_model_name": "LayoutModel",
            "_view_count": null,
            "_view_module": "@jupyter-widgets/base",
            "_view_module_version": "1.2.0",
            "_view_name": "LayoutView",
            "align_content": null,
            "align_items": null,
            "align_self": null,
            "border": null,
            "bottom": null,
            "display": null,
            "flex": null,
            "flex_flow": null,
            "grid_area": null,
            "grid_auto_columns": null,
            "grid_auto_flow": null,
            "grid_auto_rows": null,
            "grid_column": null,
            "grid_gap": null,
            "grid_row": null,
            "grid_template_areas": null,
            "grid_template_columns": null,
            "grid_template_rows": null,
            "height": null,
            "justify_content": null,
            "justify_items": null,
            "left": null,
            "margin": null,
            "max_height": null,
            "max_width": null,
            "min_height": null,
            "min_width": null,
            "object_fit": null,
            "object_position": null,
            "order": null,
            "overflow": null,
            "overflow_x": null,
            "overflow_y": null,
            "padding": null,
            "right": null,
            "top": null,
            "visibility": null,
            "width": null
          }
        },
        "79c9ad3f3a064aeb90ea6564d3c9a0e6": {
          "model_module": "@jupyter-widgets/controls",
          "model_name": "DescriptionStyleModel",
          "model_module_version": "1.5.0",
          "state": {
            "_model_module": "@jupyter-widgets/controls",
            "_model_module_version": "1.5.0",
            "_model_name": "DescriptionStyleModel",
            "_view_count": null,
            "_view_module": "@jupyter-widgets/base",
            "_view_module_version": "1.2.0",
            "_view_name": "StyleView",
            "description_width": ""
          }
        },
        "80b1ce62ecdd4cec9ebc8a3aad3e4ac7": {
          "model_module": "@jupyter-widgets/controls",
          "model_name": "HBoxModel",
          "model_module_version": "1.5.0",
          "state": {
            "_dom_classes": [],
            "_model_module": "@jupyter-widgets/controls",
            "_model_module_version": "1.5.0",
            "_model_name": "HBoxModel",
            "_view_count": null,
            "_view_module": "@jupyter-widgets/controls",
            "_view_module_version": "1.5.0",
            "_view_name": "HBoxView",
            "box_style": "",
            "children": [
              "IPY_MODEL_14a35617fef04ffa8a7dbc47f27d1d3a",
              "IPY_MODEL_fb30ceff28ca4dc1bcb7ec1ed5ddcf56",
              "IPY_MODEL_b047161ba32b4d13a88f4675f581bd20"
            ],
            "layout": "IPY_MODEL_8cfd633f2b1543b58dceecca48956f78"
          }
        },
        "14a35617fef04ffa8a7dbc47f27d1d3a": {
          "model_module": "@jupyter-widgets/controls",
          "model_name": "HTMLModel",
          "model_module_version": "1.5.0",
          "state": {
            "_dom_classes": [],
            "_model_module": "@jupyter-widgets/controls",
            "_model_module_version": "1.5.0",
            "_model_name": "HTMLModel",
            "_view_count": null,
            "_view_module": "@jupyter-widgets/controls",
            "_view_module_version": "1.5.0",
            "_view_name": "HTMLView",
            "description": "",
            "description_tooltip": null,
            "layout": "IPY_MODEL_0f5df16e5f3a4e12869de0c43ee7097c",
            "placeholder": "​",
            "style": "IPY_MODEL_7f2e0b65836d472f87be90273fa5ffd2",
            "value": "config.json: 100%"
          }
        },
        "fb30ceff28ca4dc1bcb7ec1ed5ddcf56": {
          "model_module": "@jupyter-widgets/controls",
          "model_name": "FloatProgressModel",
          "model_module_version": "1.5.0",
          "state": {
            "_dom_classes": [],
            "_model_module": "@jupyter-widgets/controls",
            "_model_module_version": "1.5.0",
            "_model_name": "FloatProgressModel",
            "_view_count": null,
            "_view_module": "@jupyter-widgets/controls",
            "_view_module_version": "1.5.0",
            "_view_name": "ProgressView",
            "bar_style": "success",
            "description": "",
            "description_tooltip": null,
            "layout": "IPY_MODEL_2562268fd1914ccf9ecbc910186e06c7",
            "max": 483,
            "min": 0,
            "orientation": "horizontal",
            "style": "IPY_MODEL_b4ef2b6dc305407ca91627f323bec791",
            "value": 483
          }
        },
        "b047161ba32b4d13a88f4675f581bd20": {
          "model_module": "@jupyter-widgets/controls",
          "model_name": "HTMLModel",
          "model_module_version": "1.5.0",
          "state": {
            "_dom_classes": [],
            "_model_module": "@jupyter-widgets/controls",
            "_model_module_version": "1.5.0",
            "_model_name": "HTMLModel",
            "_view_count": null,
            "_view_module": "@jupyter-widgets/controls",
            "_view_module_version": "1.5.0",
            "_view_name": "HTMLView",
            "description": "",
            "description_tooltip": null,
            "layout": "IPY_MODEL_4c4bfe30fcce4df6ace462fec2f2175d",
            "placeholder": "​",
            "style": "IPY_MODEL_3b307c6a0a1248fc8469b5328084ca34",
            "value": " 483/483 [00:00&lt;00:00, 54.1kB/s]"
          }
        },
        "8cfd633f2b1543b58dceecca48956f78": {
          "model_module": "@jupyter-widgets/base",
          "model_name": "LayoutModel",
          "model_module_version": "1.2.0",
          "state": {
            "_model_module": "@jupyter-widgets/base",
            "_model_module_version": "1.2.0",
            "_model_name": "LayoutModel",
            "_view_count": null,
            "_view_module": "@jupyter-widgets/base",
            "_view_module_version": "1.2.0",
            "_view_name": "LayoutView",
            "align_content": null,
            "align_items": null,
            "align_self": null,
            "border": null,
            "bottom": null,
            "display": null,
            "flex": null,
            "flex_flow": null,
            "grid_area": null,
            "grid_auto_columns": null,
            "grid_auto_flow": null,
            "grid_auto_rows": null,
            "grid_column": null,
            "grid_gap": null,
            "grid_row": null,
            "grid_template_areas": null,
            "grid_template_columns": null,
            "grid_template_rows": null,
            "height": null,
            "justify_content": null,
            "justify_items": null,
            "left": null,
            "margin": null,
            "max_height": null,
            "max_width": null,
            "min_height": null,
            "min_width": null,
            "object_fit": null,
            "object_position": null,
            "order": null,
            "overflow": null,
            "overflow_x": null,
            "overflow_y": null,
            "padding": null,
            "right": null,
            "top": null,
            "visibility": null,
            "width": null
          }
        },
        "0f5df16e5f3a4e12869de0c43ee7097c": {
          "model_module": "@jupyter-widgets/base",
          "model_name": "LayoutModel",
          "model_module_version": "1.2.0",
          "state": {
            "_model_module": "@jupyter-widgets/base",
            "_model_module_version": "1.2.0",
            "_model_name": "LayoutModel",
            "_view_count": null,
            "_view_module": "@jupyter-widgets/base",
            "_view_module_version": "1.2.0",
            "_view_name": "LayoutView",
            "align_content": null,
            "align_items": null,
            "align_self": null,
            "border": null,
            "bottom": null,
            "display": null,
            "flex": null,
            "flex_flow": null,
            "grid_area": null,
            "grid_auto_columns": null,
            "grid_auto_flow": null,
            "grid_auto_rows": null,
            "grid_column": null,
            "grid_gap": null,
            "grid_row": null,
            "grid_template_areas": null,
            "grid_template_columns": null,
            "grid_template_rows": null,
            "height": null,
            "justify_content": null,
            "justify_items": null,
            "left": null,
            "margin": null,
            "max_height": null,
            "max_width": null,
            "min_height": null,
            "min_width": null,
            "object_fit": null,
            "object_position": null,
            "order": null,
            "overflow": null,
            "overflow_x": null,
            "overflow_y": null,
            "padding": null,
            "right": null,
            "top": null,
            "visibility": null,
            "width": null
          }
        },
        "7f2e0b65836d472f87be90273fa5ffd2": {
          "model_module": "@jupyter-widgets/controls",
          "model_name": "DescriptionStyleModel",
          "model_module_version": "1.5.0",
          "state": {
            "_model_module": "@jupyter-widgets/controls",
            "_model_module_version": "1.5.0",
            "_model_name": "DescriptionStyleModel",
            "_view_count": null,
            "_view_module": "@jupyter-widgets/base",
            "_view_module_version": "1.2.0",
            "_view_name": "StyleView",
            "description_width": ""
          }
        },
        "2562268fd1914ccf9ecbc910186e06c7": {
          "model_module": "@jupyter-widgets/base",
          "model_name": "LayoutModel",
          "model_module_version": "1.2.0",
          "state": {
            "_model_module": "@jupyter-widgets/base",
            "_model_module_version": "1.2.0",
            "_model_name": "LayoutModel",
            "_view_count": null,
            "_view_module": "@jupyter-widgets/base",
            "_view_module_version": "1.2.0",
            "_view_name": "LayoutView",
            "align_content": null,
            "align_items": null,
            "align_self": null,
            "border": null,
            "bottom": null,
            "display": null,
            "flex": null,
            "flex_flow": null,
            "grid_area": null,
            "grid_auto_columns": null,
            "grid_auto_flow": null,
            "grid_auto_rows": null,
            "grid_column": null,
            "grid_gap": null,
            "grid_row": null,
            "grid_template_areas": null,
            "grid_template_columns": null,
            "grid_template_rows": null,
            "height": null,
            "justify_content": null,
            "justify_items": null,
            "left": null,
            "margin": null,
            "max_height": null,
            "max_width": null,
            "min_height": null,
            "min_width": null,
            "object_fit": null,
            "object_position": null,
            "order": null,
            "overflow": null,
            "overflow_x": null,
            "overflow_y": null,
            "padding": null,
            "right": null,
            "top": null,
            "visibility": null,
            "width": null
          }
        },
        "b4ef2b6dc305407ca91627f323bec791": {
          "model_module": "@jupyter-widgets/controls",
          "model_name": "ProgressStyleModel",
          "model_module_version": "1.5.0",
          "state": {
            "_model_module": "@jupyter-widgets/controls",
            "_model_module_version": "1.5.0",
            "_model_name": "ProgressStyleModel",
            "_view_count": null,
            "_view_module": "@jupyter-widgets/base",
            "_view_module_version": "1.2.0",
            "_view_name": "StyleView",
            "bar_color": null,
            "description_width": ""
          }
        },
        "4c4bfe30fcce4df6ace462fec2f2175d": {
          "model_module": "@jupyter-widgets/base",
          "model_name": "LayoutModel",
          "model_module_version": "1.2.0",
          "state": {
            "_model_module": "@jupyter-widgets/base",
            "_model_module_version": "1.2.0",
            "_model_name": "LayoutModel",
            "_view_count": null,
            "_view_module": "@jupyter-widgets/base",
            "_view_module_version": "1.2.0",
            "_view_name": "LayoutView",
            "align_content": null,
            "align_items": null,
            "align_self": null,
            "border": null,
            "bottom": null,
            "display": null,
            "flex": null,
            "flex_flow": null,
            "grid_area": null,
            "grid_auto_columns": null,
            "grid_auto_flow": null,
            "grid_auto_rows": null,
            "grid_column": null,
            "grid_gap": null,
            "grid_row": null,
            "grid_template_areas": null,
            "grid_template_columns": null,
            "grid_template_rows": null,
            "height": null,
            "justify_content": null,
            "justify_items": null,
            "left": null,
            "margin": null,
            "max_height": null,
            "max_width": null,
            "min_height": null,
            "min_width": null,
            "object_fit": null,
            "object_position": null,
            "order": null,
            "overflow": null,
            "overflow_x": null,
            "overflow_y": null,
            "padding": null,
            "right": null,
            "top": null,
            "visibility": null,
            "width": null
          }
        },
        "3b307c6a0a1248fc8469b5328084ca34": {
          "model_module": "@jupyter-widgets/controls",
          "model_name": "DescriptionStyleModel",
          "model_module_version": "1.5.0",
          "state": {
            "_model_module": "@jupyter-widgets/controls",
            "_model_module_version": "1.5.0",
            "_model_name": "DescriptionStyleModel",
            "_view_count": null,
            "_view_module": "@jupyter-widgets/base",
            "_view_module_version": "1.2.0",
            "_view_name": "StyleView",
            "description_width": ""
          }
        }
      }
    }
  },
  "cells": [
    {
      "cell_type": "code",
      "execution_count": 68,
      "metadata": {
        "id": "WTddcANVmdd_"
      },
      "outputs": [],
      "source": [
        "# Step 1: Install and Import Libraries\n",
        "# !pip install transformers datasets scikit-learn --quiet\n",
        "\n",
        "import torch\n",
        "from torch.utils.data import Dataset, DataLoader, random_split\n",
        "import torch.nn as nn\n",
        "from sklearn.metrics import classification_report\n",
        "from sklearn.model_selection import train_test_split\n",
        "from collections import Counter\n",
        "import torch.optim as optim\n",
        "from transformers import DistilBertTokenizer, DistilBertForSequenceClassification\n",
        "from torch.optim import AdamW\n",
        "import pandas as pd\n",
        "import numpy as np\n",
        "import random\n",
        "from tqdm import tqdm\n",
        "import matplotlib.pyplot as plt\n",
        "from torch.optim.lr_scheduler import ReduceLROnPlateau"
      ]
    },
    {
      "cell_type": "code",
      "source": [
        "# Step 2: Set Device and Seed\n",
        "device = torch.device(\"cuda\" if torch.cuda.is_available() else \"cpu\")\n",
        "torch.manual_seed(42)\n",
        "random.seed(42)"
      ],
      "metadata": {
        "id": "5zDukIfkqZ8B"
      },
      "execution_count": 2,
      "outputs": []
    },
    {
      "cell_type": "code",
      "source": [
        "# Step 3: Load Your CSV\n",
        "df = pd.read_csv(\"/content/lyrics_cleaned_final.csv\", encoding=\"latin-1\")  # replace with your actual CSV path\n",
        "df = df[[\"cleaned_lyrics\", \"emotion\"]]  # keep only needed columns\n",
        "emotion_labels = {\"angry\": 0, \"happy\": 1, \"relaxed\": 2, \"sad\": 3}\n",
        "df[\"label\"] = df[\"emotion\"].map(emotion_labels)"
      ],
      "metadata": {
        "id": "BmZkWb8eqcvW"
      },
      "execution_count": 4,
      "outputs": []
    },
    {
      "cell_type": "code",
      "source": [
        "df.head()"
      ],
      "metadata": {
        "colab": {
          "base_uri": "https://localhost:8080/",
          "height": 206
        },
        "id": "Y-Z21t2dsExx",
        "outputId": "dbf3bca6-0d09-45ff-fa88-bd0ce95c1048"
      },
      "execution_count": 5,
      "outputs": [
        {
          "output_type": "execute_result",
          "data": {
            "text/plain": [
              "                                      cleaned_lyrics  emotion  label\n",
              "0  Yeah, right Usher, baby Okay Yeah man Right (T...  relaxed      2\n",
              "1  Ahhhhhhhh You're om my mind Yea Verse1 I'm thi...  relaxed      2\n",
              "2  I told ya, I told ya I told ya baby, baby Uh, ...  relaxed      2\n",
              "3   J. Holiday Oo-oh, oo-oh (Ay-ay-ay, Ay, Ay-ay-...  relaxed      2\n",
              "4  Yeah, yeah, yeah - ragga so ragga You don't ha...    angry      0"
            ],
            "text/html": [
              "\n",
              "  <div id=\"df-fa3ca500-fa7e-44d8-ae41-d590d85e23ec\" class=\"colab-df-container\">\n",
              "    <div>\n",
              "<style scoped>\n",
              "    .dataframe tbody tr th:only-of-type {\n",
              "        vertical-align: middle;\n",
              "    }\n",
              "\n",
              "    .dataframe tbody tr th {\n",
              "        vertical-align: top;\n",
              "    }\n",
              "\n",
              "    .dataframe thead th {\n",
              "        text-align: right;\n",
              "    }\n",
              "</style>\n",
              "<table border=\"1\" class=\"dataframe\">\n",
              "  <thead>\n",
              "    <tr style=\"text-align: right;\">\n",
              "      <th></th>\n",
              "      <th>cleaned_lyrics</th>\n",
              "      <th>emotion</th>\n",
              "      <th>label</th>\n",
              "    </tr>\n",
              "  </thead>\n",
              "  <tbody>\n",
              "    <tr>\n",
              "      <th>0</th>\n",
              "      <td>Yeah, right Usher, baby Okay Yeah man Right (T...</td>\n",
              "      <td>relaxed</td>\n",
              "      <td>2</td>\n",
              "    </tr>\n",
              "    <tr>\n",
              "      <th>1</th>\n",
              "      <td>Ahhhhhhhh You're om my mind Yea Verse1 I'm thi...</td>\n",
              "      <td>relaxed</td>\n",
              "      <td>2</td>\n",
              "    </tr>\n",
              "    <tr>\n",
              "      <th>2</th>\n",
              "      <td>I told ya, I told ya I told ya baby, baby Uh, ...</td>\n",
              "      <td>relaxed</td>\n",
              "      <td>2</td>\n",
              "    </tr>\n",
              "    <tr>\n",
              "      <th>3</th>\n",
              "      <td>J. Holiday Oo-oh, oo-oh (Ay-ay-ay, Ay, Ay-ay-...</td>\n",
              "      <td>relaxed</td>\n",
              "      <td>2</td>\n",
              "    </tr>\n",
              "    <tr>\n",
              "      <th>4</th>\n",
              "      <td>Yeah, yeah, yeah - ragga so ragga You don't ha...</td>\n",
              "      <td>angry</td>\n",
              "      <td>0</td>\n",
              "    </tr>\n",
              "  </tbody>\n",
              "</table>\n",
              "</div>\n",
              "    <div class=\"colab-df-buttons\">\n",
              "\n",
              "  <div class=\"colab-df-container\">\n",
              "    <button class=\"colab-df-convert\" onclick=\"convertToInteractive('df-fa3ca500-fa7e-44d8-ae41-d590d85e23ec')\"\n",
              "            title=\"Convert this dataframe to an interactive table.\"\n",
              "            style=\"display:none;\">\n",
              "\n",
              "  <svg xmlns=\"http://www.w3.org/2000/svg\" height=\"24px\" viewBox=\"0 -960 960 960\">\n",
              "    <path d=\"M120-120v-720h720v720H120Zm60-500h600v-160H180v160Zm220 220h160v-160H400v160Zm0 220h160v-160H400v160ZM180-400h160v-160H180v160Zm440 0h160v-160H620v160ZM180-180h160v-160H180v160Zm440 0h160v-160H620v160Z\"/>\n",
              "  </svg>\n",
              "    </button>\n",
              "\n",
              "  <style>\n",
              "    .colab-df-container {\n",
              "      display:flex;\n",
              "      gap: 12px;\n",
              "    }\n",
              "\n",
              "    .colab-df-convert {\n",
              "      background-color: #E8F0FE;\n",
              "      border: none;\n",
              "      border-radius: 50%;\n",
              "      cursor: pointer;\n",
              "      display: none;\n",
              "      fill: #1967D2;\n",
              "      height: 32px;\n",
              "      padding: 0 0 0 0;\n",
              "      width: 32px;\n",
              "    }\n",
              "\n",
              "    .colab-df-convert:hover {\n",
              "      background-color: #E2EBFA;\n",
              "      box-shadow: 0px 1px 2px rgba(60, 64, 67, 0.3), 0px 1px 3px 1px rgba(60, 64, 67, 0.15);\n",
              "      fill: #174EA6;\n",
              "    }\n",
              "\n",
              "    .colab-df-buttons div {\n",
              "      margin-bottom: 4px;\n",
              "    }\n",
              "\n",
              "    [theme=dark] .colab-df-convert {\n",
              "      background-color: #3B4455;\n",
              "      fill: #D2E3FC;\n",
              "    }\n",
              "\n",
              "    [theme=dark] .colab-df-convert:hover {\n",
              "      background-color: #434B5C;\n",
              "      box-shadow: 0px 1px 3px 1px rgba(0, 0, 0, 0.15);\n",
              "      filter: drop-shadow(0px 1px 2px rgba(0, 0, 0, 0.3));\n",
              "      fill: #FFFFFF;\n",
              "    }\n",
              "  </style>\n",
              "\n",
              "    <script>\n",
              "      const buttonEl =\n",
              "        document.querySelector('#df-fa3ca500-fa7e-44d8-ae41-d590d85e23ec button.colab-df-convert');\n",
              "      buttonEl.style.display =\n",
              "        google.colab.kernel.accessAllowed ? 'block' : 'none';\n",
              "\n",
              "      async function convertToInteractive(key) {\n",
              "        const element = document.querySelector('#df-fa3ca500-fa7e-44d8-ae41-d590d85e23ec');\n",
              "        const dataTable =\n",
              "          await google.colab.kernel.invokeFunction('convertToInteractive',\n",
              "                                                    [key], {});\n",
              "        if (!dataTable) return;\n",
              "\n",
              "        const docLinkHtml = 'Like what you see? Visit the ' +\n",
              "          '<a target=\"_blank\" href=https://colab.research.google.com/notebooks/data_table.ipynb>data table notebook</a>'\n",
              "          + ' to learn more about interactive tables.';\n",
              "        element.innerHTML = '';\n",
              "        dataTable['output_type'] = 'display_data';\n",
              "        await google.colab.output.renderOutput(dataTable, element);\n",
              "        const docLink = document.createElement('div');\n",
              "        docLink.innerHTML = docLinkHtml;\n",
              "        element.appendChild(docLink);\n",
              "      }\n",
              "    </script>\n",
              "  </div>\n",
              "\n",
              "\n",
              "    <div id=\"df-44aec60b-33aa-47d1-9481-6eb44117bebb\">\n",
              "      <button class=\"colab-df-quickchart\" onclick=\"quickchart('df-44aec60b-33aa-47d1-9481-6eb44117bebb')\"\n",
              "                title=\"Suggest charts\"\n",
              "                style=\"display:none;\">\n",
              "\n",
              "<svg xmlns=\"http://www.w3.org/2000/svg\" height=\"24px\"viewBox=\"0 0 24 24\"\n",
              "     width=\"24px\">\n",
              "    <g>\n",
              "        <path d=\"M19 3H5c-1.1 0-2 .9-2 2v14c0 1.1.9 2 2 2h14c1.1 0 2-.9 2-2V5c0-1.1-.9-2-2-2zM9 17H7v-7h2v7zm4 0h-2V7h2v10zm4 0h-2v-4h2v4z\"/>\n",
              "    </g>\n",
              "</svg>\n",
              "      </button>\n",
              "\n",
              "<style>\n",
              "  .colab-df-quickchart {\n",
              "      --bg-color: #E8F0FE;\n",
              "      --fill-color: #1967D2;\n",
              "      --hover-bg-color: #E2EBFA;\n",
              "      --hover-fill-color: #174EA6;\n",
              "      --disabled-fill-color: #AAA;\n",
              "      --disabled-bg-color: #DDD;\n",
              "  }\n",
              "\n",
              "  [theme=dark] .colab-df-quickchart {\n",
              "      --bg-color: #3B4455;\n",
              "      --fill-color: #D2E3FC;\n",
              "      --hover-bg-color: #434B5C;\n",
              "      --hover-fill-color: #FFFFFF;\n",
              "      --disabled-bg-color: #3B4455;\n",
              "      --disabled-fill-color: #666;\n",
              "  }\n",
              "\n",
              "  .colab-df-quickchart {\n",
              "    background-color: var(--bg-color);\n",
              "    border: none;\n",
              "    border-radius: 50%;\n",
              "    cursor: pointer;\n",
              "    display: none;\n",
              "    fill: var(--fill-color);\n",
              "    height: 32px;\n",
              "    padding: 0;\n",
              "    width: 32px;\n",
              "  }\n",
              "\n",
              "  .colab-df-quickchart:hover {\n",
              "    background-color: var(--hover-bg-color);\n",
              "    box-shadow: 0 1px 2px rgba(60, 64, 67, 0.3), 0 1px 3px 1px rgba(60, 64, 67, 0.15);\n",
              "    fill: var(--button-hover-fill-color);\n",
              "  }\n",
              "\n",
              "  .colab-df-quickchart-complete:disabled,\n",
              "  .colab-df-quickchart-complete:disabled:hover {\n",
              "    background-color: var(--disabled-bg-color);\n",
              "    fill: var(--disabled-fill-color);\n",
              "    box-shadow: none;\n",
              "  }\n",
              "\n",
              "  .colab-df-spinner {\n",
              "    border: 2px solid var(--fill-color);\n",
              "    border-color: transparent;\n",
              "    border-bottom-color: var(--fill-color);\n",
              "    animation:\n",
              "      spin 1s steps(1) infinite;\n",
              "  }\n",
              "\n",
              "  @keyframes spin {\n",
              "    0% {\n",
              "      border-color: transparent;\n",
              "      border-bottom-color: var(--fill-color);\n",
              "      border-left-color: var(--fill-color);\n",
              "    }\n",
              "    20% {\n",
              "      border-color: transparent;\n",
              "      border-left-color: var(--fill-color);\n",
              "      border-top-color: var(--fill-color);\n",
              "    }\n",
              "    30% {\n",
              "      border-color: transparent;\n",
              "      border-left-color: var(--fill-color);\n",
              "      border-top-color: var(--fill-color);\n",
              "      border-right-color: var(--fill-color);\n",
              "    }\n",
              "    40% {\n",
              "      border-color: transparent;\n",
              "      border-right-color: var(--fill-color);\n",
              "      border-top-color: var(--fill-color);\n",
              "    }\n",
              "    60% {\n",
              "      border-color: transparent;\n",
              "      border-right-color: var(--fill-color);\n",
              "    }\n",
              "    80% {\n",
              "      border-color: transparent;\n",
              "      border-right-color: var(--fill-color);\n",
              "      border-bottom-color: var(--fill-color);\n",
              "    }\n",
              "    90% {\n",
              "      border-color: transparent;\n",
              "      border-bottom-color: var(--fill-color);\n",
              "    }\n",
              "  }\n",
              "</style>\n",
              "\n",
              "      <script>\n",
              "        async function quickchart(key) {\n",
              "          const quickchartButtonEl =\n",
              "            document.querySelector('#' + key + ' button');\n",
              "          quickchartButtonEl.disabled = true;  // To prevent multiple clicks.\n",
              "          quickchartButtonEl.classList.add('colab-df-spinner');\n",
              "          try {\n",
              "            const charts = await google.colab.kernel.invokeFunction(\n",
              "                'suggestCharts', [key], {});\n",
              "          } catch (error) {\n",
              "            console.error('Error during call to suggestCharts:', error);\n",
              "          }\n",
              "          quickchartButtonEl.classList.remove('colab-df-spinner');\n",
              "          quickchartButtonEl.classList.add('colab-df-quickchart-complete');\n",
              "        }\n",
              "        (() => {\n",
              "          let quickchartButtonEl =\n",
              "            document.querySelector('#df-44aec60b-33aa-47d1-9481-6eb44117bebb button');\n",
              "          quickchartButtonEl.style.display =\n",
              "            google.colab.kernel.accessAllowed ? 'block' : 'none';\n",
              "        })();\n",
              "      </script>\n",
              "    </div>\n",
              "\n",
              "    </div>\n",
              "  </div>\n"
            ],
            "application/vnd.google.colaboratory.intrinsic+json": {
              "type": "dataframe",
              "variable_name": "df",
              "summary": "{\n  \"name\": \"df\",\n  \"rows\": 1961,\n  \"fields\": [\n    {\n      \"column\": \"cleaned_lyrics\",\n      \"properties\": {\n        \"dtype\": \"string\",\n        \"num_unique_values\": 1899,\n        \"samples\": [\n          \"Lying in my bed I hear the clock tick, and think of you Turning in circles Confusion is nothing new Flashback to warm nights Almost left behind Suitcase of memories Time after\\u00e2\\u0080\\u0094  Sometimes, you picture me I'm walking too far ahead You're calling to me I can't hear what you have said And you say, \\\"Go slow\\\" I fall behind The second hand unwinds  If you're lost, you can look and you will find me Time after time If you fall, I will catch you, I'll be waiting Time after time If you fall, I will catch you, I will be waiting Time after time Time after time  After your picture fades And darkness has turned to gray Watching through windows I'm wondering if you're okay And you say, \\\"Go slow\\\" I fall behind The drum beats out of time  If you're lost, you can look and you will find me Time after time If you fall, I will catch you, I'll be waiting Time after time If you fall, I will catch you, I will be waiting Time after time  Time after time (Mmm) Time after time (Ooh) Time after time Time after time\",\n          \"Well, in come di ting dem call di broken heart This blessed love will never part Yuh done know it from di start Mi tell dem seh a dutty, yeah A Sean Paul and Sasha Come sing fi dem, baby  Though you make me holler, though you make me sweat I can't get your tenderness Still, I can't get you off my mind What is it about you, baby? A just di dutty, dutty love  I'm still in love with you, boy Well, I'm a hustler and a player And you know I'm not a stayer That's the dutty, dutty love I'm still in love with you, boy So, girly, try to understand That a man is just a man That's the dutty, dutty love I'm still in love with you, boy Blessed loving from the start But you know we had to part That's the way I give my love I'm still in love with you (Yes, I'm still in love with you) But a man gotta do what a man gotta do  Girl, well, I never had fi promise you no bling bling fi hold you, girl Well, a just di loving weh mi fling fling control you, girl And a-make yuh head swirl, and a-make yuh body twirl And a-make yuh wanna be my one and only baby girl Night after night, mi give yuh love fi keep yuh warm Gyal, yuh never get this kinda loving from yuh born And now yuh waan draw card, seh mi jus cyaan perform  I love you, baby A true you get di likkle loving and mi gone? You don't know how to love me I and I nuh have no time fi no kissing and charm Not even how to kiss me A true mi tek yuh likkle heart by storm? I don't know why Baby girl (Baby girl), baby girl (Baby girl) I love you, baby A just di dutty, dutty love  I'm still in love with you, boy Well, I'm a hustler and a player And you know I'm not a stayer That's the dutty, dutty love I'm still in love with you, boy So, girly, can't you understand That a man is just a man? That's the dutty, dutty love I'm still in love with you, boy The blessed loving from the start But you know we had to part That's the way I give my love I'm still in love with you (Yes, I'm still in love with you) Yo, but a man gotta do what a man gotta do, girl  Ayy, a true mi give har thug love and seh, \\\"Bye, bye, bye\\\" Mi tun around, she ask di question, \\\"Why, why, why?\\\" When mi leaving, mi see di gyal a cry, cry, cry And it hurts mi heart fi tell a lie, lie, lie So don't cry no more, baby girl, for sure Just remember the good times we had before  I love you, baby A true you get di likkle loving and mi gone? You don't know how to love me I and I nuh have no time fi no kissing up nor charm Not even how to kiss me A true mi tek yuh likkle heart by storm? I don't know why Ayy, baby girl I love you, baby A just di dutty, dutty love  I'm still in love with you, boy Well, I'm a hustler and a player And you know I'm not a stayer That's the dutty, dutty love I'm still in love with you, boy So, girly, don't you understand That a man is just a man? That's the way I give my love I'm still in love with you, boy The blessed loving from the start But you know we had to part That's the dutty, dutty love I'm still in love with you (Yes, I'm still in love with you) But a man gotta do what a man gotta do, girl  I don't know, I don't know I don't know why I don't know, I don't know I don't know why I don't know I'm still in love with you, boy With you, boy\",\n          \"When the numbers get so high Of the dead flying through the sky O, I don't know why Love comes to me Love comes to me When your mouth is laying ope Head knocked back, you don't cope You're out of rings and flowers and soap Love comes to me Love comes to me Love comes to me Love comes and all It's my hands, my heart, my lips And that is all When the fever hits on your forehead And trusive mice chew up your bed And you call on God and God is dead Love comes to you Love comes to you O, sugar won't you be my only I'm a hard-hearted honey-pot hungry shepherd And I'm longing to be born for you, that's her Love comes to you Love comes and all It's your hands, your heart, your lip And that is all In the night time when you feel me And the backs of your knees conceal me And your eyeballs, they unreal me Love comes to me Love comes to me\"\n        ],\n        \"semantic_type\": \"\",\n        \"description\": \"\"\n      }\n    },\n    {\n      \"column\": \"emotion\",\n      \"properties\": {\n        \"dtype\": \"category\",\n        \"num_unique_values\": 4,\n        \"samples\": [\n          \"angry\",\n          \"sad\",\n          \"relaxed\"\n        ],\n        \"semantic_type\": \"\",\n        \"description\": \"\"\n      }\n    },\n    {\n      \"column\": \"label\",\n      \"properties\": {\n        \"dtype\": \"number\",\n        \"std\": 1,\n        \"min\": 0,\n        \"max\": 3,\n        \"num_unique_values\": 4,\n        \"samples\": [\n          0,\n          3,\n          2\n        ],\n        \"semantic_type\": \"\",\n        \"description\": \"\"\n      }\n    }\n  ]\n}"
            }
          },
          "metadata": {},
          "execution_count": 5
        }
      ]
    },
    {
      "cell_type": "code",
      "source": [
        "# Step 4: Tokenizer & Dataset\n",
        "tokenizer = DistilBertTokenizer.from_pretrained(\"distilbert-base-uncased\")\n",
        "\n",
        "class SongDataset(Dataset):\n",
        "    def __init__(self, lyrics, labels, tokenizer, max_len=256):\n",
        "        self.lyrics = lyrics\n",
        "        self.labels = labels\n",
        "        self.tokenizer = tokenizer\n",
        "        self.max_len = max_len\n",
        "\n",
        "    def __len__(self):\n",
        "        return len(self.lyrics)\n",
        "\n",
        "    def __getitem__(self, idx):\n",
        "        encoded = self.tokenizer(\n",
        "            self.lyrics[idx],\n",
        "            max_length=self.max_len,\n",
        "            truncation=True,\n",
        "            padding=\"max_length\",\n",
        "            return_tensors=\"pt\"\n",
        "        )\n",
        "        return {\n",
        "            \"input_ids\": encoded[\"input_ids\"].squeeze(0),\n",
        "            \"attention_mask\": encoded[\"attention_mask\"].squeeze(0),\n",
        "            \"label\": torch.tensor(self.labels[idx], dtype=torch.long)\n",
        "        }\n"
      ],
      "metadata": {
        "id": "mT5f2dwxqoqb",
        "colab": {
          "base_uri": "https://localhost:8080/",
          "height": 269,
          "referenced_widgets": [
            "d4c70ecceab648c3a3db715f9999b5f9",
            "3bab8915ba824efaa2f008f88e61856c",
            "a0c32bcd3ad14050933f41625caccfcb",
            "319a9910a98c488d83a2f56ded64eeeb",
            "c77cb1ec74ca4967bd5d3e4bbbac1b30",
            "2ff550ade4994039bf0a76b5a6f18278",
            "cdfb7db3d1ac4ac9b3e51606cc9f7d16",
            "a6a24461102042ee87168dbaefb52258",
            "eaaaefd7e04042d1bf54d46e17fdd896",
            "a48c580377f1418a9dff79053fa8082a",
            "b9e73e642135471c92f272411cd61b60",
            "39ba7639cd9d4b7396ac38cf3b2ef021",
            "a818d507bcf4447c8cdb025773df43c9",
            "45a08526271045dcbb88c00008849fc9",
            "496e94cc3a4e4b9098fcec12e898c278",
            "233a7cf5970a47f9b045897d39fc41f6",
            "595250260d414d2fb4e2e2e5fd3bb527",
            "d4acda4972c14cd1bc320627f5d2d885",
            "21acb6cfb45443899d367eb4a43e180e",
            "1996f224bad44f56a557682b9861e01f",
            "04a1d633e8fe4b4ba965b1f05e493119",
            "4d6d9d409aa248c1b5905b54c740dd76",
            "1e2a5de583f2462489b09596eecbbc03",
            "f7563a977c4d4df183da980dceba28cf",
            "d07092badc864609855483d9611d4dd3",
            "0afe70c65ede446491aa7c0a109ad75e",
            "430b61b2a9834314b2b0fd4246000961",
            "38281261c28a416aaa5b1582a2ad17ae",
            "199b569cab5542a886c86a8982cf4b50",
            "9b4b05461fa945a6a43e9bc1a9f809c1",
            "5e14d266d9a745a8871961672e2df7ec",
            "fb8f77af0a95400797c1cd3a88b75647",
            "79c9ad3f3a064aeb90ea6564d3c9a0e6",
            "80b1ce62ecdd4cec9ebc8a3aad3e4ac7",
            "14a35617fef04ffa8a7dbc47f27d1d3a",
            "fb30ceff28ca4dc1bcb7ec1ed5ddcf56",
            "b047161ba32b4d13a88f4675f581bd20",
            "8cfd633f2b1543b58dceecca48956f78",
            "0f5df16e5f3a4e12869de0c43ee7097c",
            "7f2e0b65836d472f87be90273fa5ffd2",
            "2562268fd1914ccf9ecbc910186e06c7",
            "b4ef2b6dc305407ca91627f323bec791",
            "4c4bfe30fcce4df6ace462fec2f2175d",
            "3b307c6a0a1248fc8469b5328084ca34"
          ]
        },
        "outputId": "9990d0f8-2ff5-4d1b-b120-8203b95fddab"
      },
      "execution_count": 6,
      "outputs": [
        {
          "output_type": "stream",
          "name": "stderr",
          "text": [
            "/usr/local/lib/python3.11/dist-packages/huggingface_hub/utils/_auth.py:94: UserWarning: \n",
            "The secret `HF_TOKEN` does not exist in your Colab secrets.\n",
            "To authenticate with the Hugging Face Hub, create a token in your settings tab (https://huggingface.co/settings/tokens), set it as secret in your Google Colab and restart your session.\n",
            "You will be able to reuse this secret in all of your notebooks.\n",
            "Please note that authentication is recommended but still optional to access public models or datasets.\n",
            "  warnings.warn(\n"
          ]
        },
        {
          "output_type": "display_data",
          "data": {
            "text/plain": [
              "tokenizer_config.json:   0%|          | 0.00/48.0 [00:00<?, ?B/s]"
            ],
            "application/vnd.jupyter.widget-view+json": {
              "version_major": 2,
              "version_minor": 0,
              "model_id": "d4c70ecceab648c3a3db715f9999b5f9"
            }
          },
          "metadata": {}
        },
        {
          "output_type": "display_data",
          "data": {
            "text/plain": [
              "vocab.txt:   0%|          | 0.00/232k [00:00<?, ?B/s]"
            ],
            "application/vnd.jupyter.widget-view+json": {
              "version_major": 2,
              "version_minor": 0,
              "model_id": "39ba7639cd9d4b7396ac38cf3b2ef021"
            }
          },
          "metadata": {}
        },
        {
          "output_type": "display_data",
          "data": {
            "text/plain": [
              "tokenizer.json:   0%|          | 0.00/466k [00:00<?, ?B/s]"
            ],
            "application/vnd.jupyter.widget-view+json": {
              "version_major": 2,
              "version_minor": 0,
              "model_id": "1e2a5de583f2462489b09596eecbbc03"
            }
          },
          "metadata": {}
        },
        {
          "output_type": "display_data",
          "data": {
            "text/plain": [
              "config.json:   0%|          | 0.00/483 [00:00<?, ?B/s]"
            ],
            "application/vnd.jupyter.widget-view+json": {
              "version_major": 2,
              "version_minor": 0,
              "model_id": "80b1ce62ecdd4cec9ebc8a3aad3e4ac7"
            }
          },
          "metadata": {}
        }
      ]
    },
    {
      "cell_type": "code",
      "source": [
        "test_size = 0.20\n",
        "val_size = 0.10\n",
        "\n",
        "train_val_texts, test_texts, train_val_labels, test_labels = train_test_split(\n",
        "    df[\"cleaned_lyrics\"].tolist(),\n",
        "    df[\"label\"].tolist(),\n",
        "    test_size=test_size,\n",
        "    stratify=df[\"label\"].tolist(),\n",
        "    random_state=42\n",
        ")\n",
        "\n",
        "\n",
        "val_fraction = val_size / (1 - test_size)  # 0.10 / 0.80 = 0.125\n",
        "train_texts, val_texts, train_labels, val_labels = train_test_split(\n",
        "    train_val_texts,\n",
        "    train_val_labels,\n",
        "    test_size=val_fraction,\n",
        "    stratify=train_val_labels,\n",
        "    random_state=42\n",
        ")\n",
        "\n",
        "# 3) Print class distributions\n",
        "label_to_emotion = {0: \"angry\", 1: \"happy\", 2: \"relaxed\", 3: \"sad\"}\n",
        "\n",
        "def print_dist(name, labels):\n",
        "    counts = Counter(labels)\n",
        "    print(f\"{name} Set Class Distribution:\")\n",
        "    for lbl, cnt in counts.items():\n",
        "        print(f\"  {label_to_emotion[lbl]}: {cnt}\")\n",
        "    print()\n",
        "\n",
        "print_dist(\"Train\", train_labels)\n",
        "print_dist(\"Validation\", val_labels)\n",
        "print_dist(\"Test\", test_labels)"
      ],
      "metadata": {
        "colab": {
          "base_uri": "https://localhost:8080/"
        },
        "id": "nIZSoDr9-2E8",
        "outputId": "8502e32d-2461-4aad-d7a5-a18cf830063c"
      },
      "execution_count": 10,
      "outputs": [
        {
          "output_type": "stream",
          "name": "stdout",
          "text": [
            "Train Set Class Distribution:\n",
            "  relaxed: 343\n",
            "  angry: 345\n",
            "  happy: 344\n",
            "  sad: 340\n",
            "\n",
            "Validation Set Class Distribution:\n",
            "  relaxed: 49\n",
            "  happy: 49\n",
            "  angry: 49\n",
            "  sad: 49\n",
            "\n",
            "Test Set Class Distribution:\n",
            "  happy: 99\n",
            "  sad: 97\n",
            "  angry: 99\n",
            "  relaxed: 98\n",
            "\n"
          ]
        }
      ]
    },
    {
      "cell_type": "code",
      "source": [
        "# Step 3: Tokenize and wrap into PyTorch Dataset\n",
        "train_dataset = SongDataset(train_texts, train_labels, tokenizer)\n",
        "test_dataset = SongDataset(test_texts, test_labels, tokenizer)\n",
        "val_dataset = SongDataset(val_texts, val_labels, tokenizer)\n",
        "\n",
        "# Step 4: Create DataLoaders\n",
        "#Try batch size of 2 or 8\n",
        "train_loader = DataLoader(train_dataset, batch_size=8, shuffle=True)\n",
        "test_loader = DataLoader(test_dataset, batch_size=8)\n",
        "val_loader = DataLoader(val_dataset, batch_size=8)"
      ],
      "metadata": {
        "id": "Hz2iPpuGAp7p"
      },
      "execution_count": 45,
      "outputs": []
    },
    {
      "cell_type": "code",
      "source": [
        "# Step 6: Load DistilBERT Model\n",
        "model = DistilBertForSequenceClassification.from_pretrained(\n",
        "    \"distilbert-base-uncased\", num_labels=4\n",
        ")\n",
        "#add higher dropout rate to reduce overfitting\n",
        "model.classifier.dropout = nn.Dropout(0.3)\n",
        "\n",
        "#Freeze Layers\n",
        "for name, param in model.distilbert.named_parameters():\n",
        "    # only fine-tune the last two layers\n",
        "    if 'layer.3.' not in name and 'layer.4.' not in name:\n",
        "        param.requires_grad = False\n",
        "\n",
        "model.to(device)\n",
        "\n",
        "# Step 7: Optimizer & Loss\n",
        "# optimizer = AdamW(model.parameters(), lr=1e-5) #Accuracy Test 95%\n",
        "# optimizer = AdamW(model.parameters(), lr=2e-5) #Accuracy Test 92% (train 100% overfitted)\n",
        "optimizer = AdamW(model.parameters(),lr=5e-6, weight_decay=1e-2)\n",
        "\n",
        "scheduler = ReduceLROnPlateau(optimizer,\n",
        "                              mode='min',\n",
        "                              factor=0.5,\n",
        "                              patience=2,\n",
        "                              verbose=True)\n",
        "\n",
        "criterion = nn.CrossEntropyLoss()"
      ],
      "metadata": {
        "colab": {
          "base_uri": "https://localhost:8080/"
        },
        "id": "nqEk3r5qqxJV",
        "outputId": "9ecbd98b-a1a4-4905-e21b-39b1a7b65b3d"
      },
      "execution_count": 69,
      "outputs": [
        {
          "output_type": "stream",
          "name": "stderr",
          "text": [
            "Some weights of DistilBertForSequenceClassification were not initialized from the model checkpoint at distilbert-base-uncased and are newly initialized: ['classifier.bias', 'classifier.weight', 'pre_classifier.bias', 'pre_classifier.weight']\n",
            "You should probably TRAIN this model on a down-stream task to be able to use it for predictions and inference.\n"
          ]
        }
      ]
    },
    {
      "cell_type": "code",
      "source": [
        "def save_model(model, optimizer, epoch, filename=\"checkpoint.pth\"):\n",
        "    \"\"\"\n",
        "    Saves the model and optimizer state for later training or inference.\n",
        "    Args:\n",
        "        model (torch.nn.Module): The model to save.\n",
        "        optimizer (torch.optim.Optimizer): The optimizer used during training.\n",
        "        epoch (int): Current training epoch.\n",
        "        filename (str): File name to save the checkpoint.\n",
        "    \"\"\"\n",
        "    torch.save({\n",
        "        'epoch': epoch,\n",
        "        'model_state_dict': model.state_dict(),\n",
        "        'optimizer_state_dict': optimizer.state_dict()\n",
        "    }, filename)\n",
        "    print(f\"✅ Saved model checkpoint to: {filename}\")"
      ],
      "metadata": {
        "id": "a5xoltpZS-F6"
      },
      "execution_count": 60,
      "outputs": []
    },
    {
      "cell_type": "code",
      "source": [
        "def train(model, optimizer, criterion, train_loader, val_loader, num_epochs, device='cuda', patience=5):\n",
        "\n",
        "    model.to(device)\n",
        "    history = {\n",
        "        'train_loss': [], 'val_loss': [],\n",
        "        'train_acc':  [], 'val_acc':  []\n",
        "    }\n",
        "    best_val_loss = float('inf')\n",
        "    epochs_no_improve = 0\n",
        "    best_model_wts = \"epoch 0\"\n",
        "\n",
        "    for epoch in range(num_epochs):\n",
        "        model.train()\n",
        "        running_loss = 0.0\n",
        "        running_corrects = 0\n",
        "        total_samples = 0\n",
        "\n",
        "        for batch in tqdm(train_loader, f\"Training - {epoch + 1}\"):\n",
        "            input_ids      = batch['input_ids'].to(device)\n",
        "            attention_mask = batch['attention_mask'].to(device)\n",
        "            labels         = batch['label'].to(device)\n",
        "\n",
        "            optimizer.zero_grad()\n",
        "            outputs = model(input_ids, attention_mask=attention_mask)\n",
        "            loss = criterion(outputs.logits, labels)\n",
        "            loss.backward()\n",
        "            optimizer.step()\n",
        "\n",
        "            batch_size = input_ids.size(0)\n",
        "            running_loss += loss.item() * batch_size\n",
        "            _, preds = torch.max(outputs.logits, dim=1)\n",
        "            running_corrects += (preds == labels).sum().item()\n",
        "            total_samples += batch_size\n",
        "\n",
        "        train_loss = running_loss / total_samples\n",
        "        train_acc  = running_corrects / total_samples\n",
        "\n",
        "        model.eval()\n",
        "        val_loss = 0.0\n",
        "        val_corrects = 0\n",
        "        val_total = 0\n",
        "\n",
        "        with torch.no_grad():\n",
        "            for batch in tqdm(val_loader, f\"Validation: Epoch {epoch+1}\"):\n",
        "                input_ids      = batch['input_ids'].to(device)\n",
        "                attention_mask = batch['attention_mask'].to(device)\n",
        "                labels         = batch['label'].to(device)\n",
        "\n",
        "                outputs = model(input_ids, attention_mask=attention_mask)\n",
        "                loss = criterion(outputs.logits, labels)\n",
        "\n",
        "                batch_size = input_ids.size(0)\n",
        "                val_loss     += loss.item() * batch_size\n",
        "                preds = torch.argmax(outputs.logits, dim=1)\n",
        "                val_corrects += (preds == labels).sum().item()\n",
        "                val_total    += batch_size\n",
        "\n",
        "        val_loss = val_loss / val_total\n",
        "        val_acc  = val_corrects / val_total\n",
        "\n",
        "        scheduler.step(val_loss)\n",
        "\n",
        "        history['train_loss'].append(train_loss)\n",
        "        history['val_loss'].append(val_loss)\n",
        "        history['train_acc'].append(train_acc)\n",
        "        history['val_acc'].append(val_acc)\n",
        "\n",
        "        print(\n",
        "            f\"Epoch {epoch}/{num_epochs}  \"\n",
        "            f\"Train Loss: {train_loss:.4f}  \"\n",
        "            f\"Train Acc: {train_acc:.4f}  |  \"\n",
        "            f\"Val Loss:   {val_loss:.4f}  \"\n",
        "            f\"Val Acc:   {val_acc:.4f}\"\n",
        "        )\n",
        "\n",
        "        if val_loss < best_val_loss:\n",
        "            best_val_loss = val_loss\n",
        "            best_model_wts = f\"epoch: {epoch+1}\"\n",
        "            epochs_no_improve = 0\n",
        "            save_model(model, optimizer, epoch+1, f\"checkpoint_{epoch+1}.pth\")\n",
        "        else:\n",
        "            epochs_no_improve += 1\n",
        "            if epochs_no_improve >= patience:\n",
        "                print(f\"Early stopping triggered (no improvement for {patience} epochs).\")\n",
        "                break\n",
        "\n",
        "    # load best model weights before returning\n",
        "    print(f\"Best model weights: {best_model_wts}\")\n",
        "    return history"
      ],
      "metadata": {
        "id": "-PniigXDq0np"
      },
      "execution_count": 70,
      "outputs": []
    },
    {
      "cell_type": "code",
      "source": [
        "history = train(model, optimizer, criterion, train_loader, val_loader, num_epochs=30)"
      ],
      "metadata": {
        "colab": {
          "base_uri": "https://localhost:8080/"
        },
        "id": "nHBgy62ZTcNI",
        "outputId": "14c3f4e6-b147-4f2b-8e10-06ed95e34e4b"
      },
      "execution_count": 71,
      "outputs": [
        {
          "output_type": "stream",
          "name": "stderr",
          "text": [
            "Training - 1: 100%|██████████| 172/172 [00:21<00:00,  7.91it/s]\n",
            "Validation: Epoch 1: 100%|██████████| 25/25 [00:01<00:00, 14.05it/s]\n"
          ]
        },
        {
          "output_type": "stream",
          "name": "stdout",
          "text": [
            "Epoch 0/30  Train Loss: 1.3669  Train Acc: 0.3294  |  Val Loss:   1.3170  Val Acc:   0.3980\n",
            "✅ Saved model checkpoint to: checkpoint_1.pth\n"
          ]
        },
        {
          "output_type": "stream",
          "name": "stderr",
          "text": [
            "Training - 2: 100%|██████████| 172/172 [00:21<00:00,  7.89it/s]\n",
            "Validation: Epoch 2: 100%|██████████| 25/25 [00:01<00:00, 14.22it/s]\n"
          ]
        },
        {
          "output_type": "stream",
          "name": "stdout",
          "text": [
            "Epoch 1/30  Train Loss: 1.2255  Train Acc: 0.5466  |  Val Loss:   1.0961  Val Acc:   0.6020\n",
            "✅ Saved model checkpoint to: checkpoint_2.pth\n"
          ]
        },
        {
          "output_type": "stream",
          "name": "stderr",
          "text": [
            "Training - 3: 100%|██████████| 172/172 [00:21<00:00,  7.94it/s]\n",
            "Validation: Epoch 3: 100%|██████████| 25/25 [00:02<00:00, 11.33it/s]\n"
          ]
        },
        {
          "output_type": "stream",
          "name": "stdout",
          "text": [
            "Epoch 2/30  Train Loss: 0.9299  Train Acc: 0.7099  |  Val Loss:   0.7910  Val Acc:   0.7908\n",
            "✅ Saved model checkpoint to: checkpoint_3.pth\n"
          ]
        },
        {
          "output_type": "stream",
          "name": "stderr",
          "text": [
            "Training - 4: 100%|██████████| 172/172 [00:21<00:00,  7.89it/s]\n",
            "Validation: Epoch 4: 100%|██████████| 25/25 [00:02<00:00, 12.22it/s]\n"
          ]
        },
        {
          "output_type": "stream",
          "name": "stdout",
          "text": [
            "Epoch 3/30  Train Loss: 0.6832  Train Acc: 0.8229  |  Val Loss:   0.6061  Val Acc:   0.7959\n",
            "✅ Saved model checkpoint to: checkpoint_4.pth\n"
          ]
        },
        {
          "output_type": "stream",
          "name": "stderr",
          "text": [
            "Training - 5: 100%|██████████| 172/172 [00:22<00:00,  7.78it/s]\n",
            "Validation: Epoch 5: 100%|██████████| 25/25 [00:01<00:00, 13.52it/s]\n"
          ]
        },
        {
          "output_type": "stream",
          "name": "stdout",
          "text": [
            "Epoch 4/30  Train Loss: 0.5184  Train Acc: 0.8513  |  Val Loss:   0.4687  Val Acc:   0.8673\n",
            "✅ Saved model checkpoint to: checkpoint_5.pth\n"
          ]
        },
        {
          "output_type": "stream",
          "name": "stderr",
          "text": [
            "Training - 6: 100%|██████████| 172/172 [00:22<00:00,  7.72it/s]\n",
            "Validation: Epoch 6: 100%|██████████| 25/25 [00:01<00:00, 13.84it/s]\n"
          ]
        },
        {
          "output_type": "stream",
          "name": "stdout",
          "text": [
            "Epoch 5/30  Train Loss: 0.4018  Train Acc: 0.8819  |  Val Loss:   0.3897  Val Acc:   0.8673\n",
            "✅ Saved model checkpoint to: checkpoint_6.pth\n"
          ]
        },
        {
          "output_type": "stream",
          "name": "stderr",
          "text": [
            "Training - 7: 100%|██████████| 172/172 [00:22<00:00,  7.70it/s]\n",
            "Validation: Epoch 7: 100%|██████████| 25/25 [00:01<00:00, 13.91it/s]\n"
          ]
        },
        {
          "output_type": "stream",
          "name": "stdout",
          "text": [
            "Epoch 6/30  Train Loss: 0.3218  Train Acc: 0.9140  |  Val Loss:   0.3511  Val Acc:   0.8827\n",
            "✅ Saved model checkpoint to: checkpoint_7.pth\n"
          ]
        },
        {
          "output_type": "stream",
          "name": "stderr",
          "text": [
            "Training - 8: 100%|██████████| 172/172 [00:22<00:00,  7.68it/s]\n",
            "Validation: Epoch 8: 100%|██████████| 25/25 [00:01<00:00, 13.73it/s]\n"
          ]
        },
        {
          "output_type": "stream",
          "name": "stdout",
          "text": [
            "Epoch 7/30  Train Loss: 0.2630  Train Acc: 0.9293  |  Val Loss:   0.3337  Val Acc:   0.8827\n",
            "✅ Saved model checkpoint to: checkpoint_8.pth\n"
          ]
        },
        {
          "output_type": "stream",
          "name": "stderr",
          "text": [
            "Training - 9: 100%|██████████| 172/172 [00:22<00:00,  7.63it/s]\n",
            "Validation: Epoch 9: 100%|██████████| 25/25 [00:01<00:00, 13.73it/s]\n"
          ]
        },
        {
          "output_type": "stream",
          "name": "stdout",
          "text": [
            "Epoch 8/30  Train Loss: 0.2093  Train Acc: 0.9519  |  Val Loss:   0.2882  Val Acc:   0.8929\n",
            "✅ Saved model checkpoint to: checkpoint_9.pth\n"
          ]
        },
        {
          "output_type": "stream",
          "name": "stderr",
          "text": [
            "Training - 10: 100%|██████████| 172/172 [00:22<00:00,  7.58it/s]\n",
            "Validation: Epoch 10: 100%|██████████| 25/25 [00:01<00:00, 13.90it/s]\n"
          ]
        },
        {
          "output_type": "stream",
          "name": "stdout",
          "text": [
            "Epoch 9/30  Train Loss: 0.1787  Train Acc: 0.9555  |  Val Loss:   0.2759  Val Acc:   0.8929\n",
            "✅ Saved model checkpoint to: checkpoint_10.pth\n"
          ]
        },
        {
          "output_type": "stream",
          "name": "stderr",
          "text": [
            "Training - 11: 100%|██████████| 172/172 [00:22<00:00,  7.60it/s]\n",
            "Validation: Epoch 11: 100%|██████████| 25/25 [00:01<00:00, 13.19it/s]\n"
          ]
        },
        {
          "output_type": "stream",
          "name": "stdout",
          "text": [
            "Epoch 10/30  Train Loss: 0.1407  Train Acc: 0.9701  |  Val Loss:   0.2705  Val Acc:   0.8929\n",
            "✅ Saved model checkpoint to: checkpoint_11.pth\n"
          ]
        },
        {
          "output_type": "stream",
          "name": "stderr",
          "text": [
            "Training - 12: 100%|██████████| 172/172 [00:22<00:00,  7.66it/s]\n",
            "Validation: Epoch 12: 100%|██████████| 25/25 [00:02<00:00, 11.30it/s]\n"
          ]
        },
        {
          "output_type": "stream",
          "name": "stdout",
          "text": [
            "Epoch 11/30  Train Loss: 0.1176  Train Acc: 0.9745  |  Val Loss:   0.2717  Val Acc:   0.9031\n"
          ]
        },
        {
          "output_type": "stream",
          "name": "stderr",
          "text": [
            "Training - 13: 100%|██████████| 172/172 [00:22<00:00,  7.60it/s]\n",
            "Validation: Epoch 13: 100%|██████████| 25/25 [00:02<00:00, 11.11it/s]\n"
          ]
        },
        {
          "output_type": "stream",
          "name": "stdout",
          "text": [
            "Epoch 12/30  Train Loss: 0.0972  Train Acc: 0.9810  |  Val Loss:   0.2511  Val Acc:   0.9082\n",
            "✅ Saved model checkpoint to: checkpoint_13.pth\n"
          ]
        },
        {
          "output_type": "stream",
          "name": "stderr",
          "text": [
            "Training - 14: 100%|██████████| 172/172 [00:22<00:00,  7.59it/s]\n",
            "Validation: Epoch 14: 100%|██████████| 25/25 [00:01<00:00, 13.18it/s]\n"
          ]
        },
        {
          "output_type": "stream",
          "name": "stdout",
          "text": [
            "Epoch 13/30  Train Loss: 0.0764  Train Acc: 0.9876  |  Val Loss:   0.3051  Val Acc:   0.8827\n"
          ]
        },
        {
          "output_type": "stream",
          "name": "stderr",
          "text": [
            "Training - 15: 100%|██████████| 172/172 [00:22<00:00,  7.57it/s]\n",
            "Validation: Epoch 15: 100%|██████████| 25/25 [00:01<00:00, 13.36it/s]\n"
          ]
        },
        {
          "output_type": "stream",
          "name": "stdout",
          "text": [
            "Epoch 14/30  Train Loss: 0.0625  Train Acc: 0.9920  |  Val Loss:   0.2637  Val Acc:   0.8980\n"
          ]
        },
        {
          "output_type": "stream",
          "name": "stderr",
          "text": [
            "Training - 16: 100%|██████████| 172/172 [00:22<00:00,  7.52it/s]\n",
            "Validation: Epoch 16: 100%|██████████| 25/25 [00:01<00:00, 13.58it/s]\n"
          ]
        },
        {
          "output_type": "stream",
          "name": "stdout",
          "text": [
            "Epoch 15/30  Train Loss: 0.0531  Train Acc: 0.9920  |  Val Loss:   0.2565  Val Acc:   0.8980\n"
          ]
        },
        {
          "output_type": "stream",
          "name": "stderr",
          "text": [
            "Training - 17: 100%|██████████| 172/172 [00:22<00:00,  7.53it/s]\n",
            "Validation: Epoch 17: 100%|██████████| 25/25 [00:01<00:00, 13.60it/s]\n"
          ]
        },
        {
          "output_type": "stream",
          "name": "stdout",
          "text": [
            "Epoch 16/30  Train Loss: 0.0452  Train Acc: 0.9934  |  Val Loss:   0.2606  Val Acc:   0.9082\n"
          ]
        },
        {
          "output_type": "stream",
          "name": "stderr",
          "text": [
            "Training - 18: 100%|██████████| 172/172 [00:22<00:00,  7.50it/s]\n",
            "Validation: Epoch 18: 100%|██████████| 25/25 [00:01<00:00, 13.61it/s]"
          ]
        },
        {
          "output_type": "stream",
          "name": "stdout",
          "text": [
            "Epoch 17/30  Train Loss: 0.0372  Train Acc: 0.9964  |  Val Loss:   0.2738  Val Acc:   0.8980\n",
            "Early stopping triggered (no improvement for 5 epochs).\n",
            "Best model weights: epoch: 13\n"
          ]
        },
        {
          "output_type": "stream",
          "name": "stderr",
          "text": [
            "\n"
          ]
        }
      ]
    },
    {
      "cell_type": "code",
      "source": [
        "#Load Dictionary of Best Model\n",
        "model.load_state_dict(torch.load(\"checkpoint_13.pth\")[\"model_state_dict\"])"
      ],
      "metadata": {
        "colab": {
          "base_uri": "https://localhost:8080/"
        },
        "id": "Yy_uyQyJbEqR",
        "outputId": "7ef75965-1dc8-4f21-a597-6f05fefaf3d9"
      },
      "execution_count": 72,
      "outputs": [
        {
          "output_type": "execute_result",
          "data": {
            "text/plain": [
              "<All keys matched successfully>"
            ]
          },
          "metadata": {},
          "execution_count": 72
        }
      ]
    },
    {
      "cell_type": "code",
      "source": [
        "epochs = range(1, len(history['train_loss']) + 1)\n",
        "\n",
        "plt.plot(epochs, history['train_loss'], label='Train Loss')\n",
        "plt.plot(epochs, history['val_loss'],   label='Val Loss')\n",
        "plt.xlabel('Epoch')\n",
        "plt.ylabel('Loss')\n",
        "plt.title('Training and Validation Loss')\n",
        "plt.legend()\n",
        "plt.show()"
      ],
      "metadata": {
        "colab": {
          "base_uri": "https://localhost:8080/",
          "height": 472
        },
        "id": "cMd78jx0YmYB",
        "outputId": "44abed42-a46c-43ff-b149-6d63f133c282"
      },
      "execution_count": 73,
      "outputs": [
        {
          "output_type": "display_data",
          "data": {
            "text/plain": [
              "<Figure size 640x480 with 1 Axes>"
            ],
            "image/png": "[encoded data removed]"
          },
          "metadata": {}
        }
      ]
    },
    {
      "cell_type": "code",
      "source": [
        "# Step 9: Evaluation\n",
        "model.eval()\n",
        "all_preds, all_labels = [], []\n",
        "sample_texts = []\n",
        "\n",
        "with torch.no_grad():\n",
        "    for batch in tqdm(test_loader):\n",
        "        input_ids = batch[\"input_ids\"].to(device)\n",
        "        attention_mask = batch[\"attention_mask\"].to(device)\n",
        "        labels = batch[\"label\"].to(device)\n",
        "\n",
        "        outputs = model(input_ids, attention_mask=attention_mask)\n",
        "        preds = torch.argmax(outputs.logits, dim=1)\n",
        "\n",
        "        all_preds.extend(preds.cpu().numpy())\n",
        "        all_labels.extend(labels.cpu().numpy())\n",
        "        sample_texts.extend(tokenizer.batch_decode(input_ids, skip_special_tokens=True))"
      ],
      "metadata": {
        "id": "MHBEWO-Nq3p0",
        "colab": {
          "base_uri": "https://localhost:8080/"
        },
        "outputId": "7380949f-fadb-4734-8583-194cfdb2f589"
      },
      "execution_count": 74,
      "outputs": [
        {
          "output_type": "stream",
          "name": "stderr",
          "text": [
            "100%|██████████| 50/50 [00:04<00:00, 10.53it/s]\n"
          ]
        }
      ]
    },
    {
      "cell_type": "code",
      "source": [
        "# Step 10: Print Report\n",
        "label_map = {v: k for k, v in emotion_labels.items()}\n",
        "print(classification_report(all_labels, all_preds, target_names=label_map.values()))\n",
        "\n",
        "# Step 11: Show Sample Predictions\n",
        "print(\"\\n🎵 Sample Predictions:\")\n",
        "for i in range(5):\n",
        "    print(f\"\\nLyrics: {sample_texts[i][:150]}...\")\n",
        "    print(f\"Actual Emotion: {label_map[all_labels[i]]}\")\n",
        "    print(f\"Predicted Emotion: {label_map[all_preds[i]]}\")"
      ],
      "metadata": {
        "colab": {
          "base_uri": "https://localhost:8080/"
        },
        "id": "CEkkvexSq75z",
        "outputId": "8de16b97-ef85-4ae1-e5a5-05b16f139c0b"
      },
      "execution_count": 75,
      "outputs": [
        {
          "output_type": "stream",
          "name": "stdout",
          "text": [
            "              precision    recall  f1-score   support\n",
            "\n",
            "       angry       0.91      0.93      0.92        99\n",
            "       happy       0.88      0.90      0.89        99\n",
            "     relaxed       0.89      0.80      0.84        98\n",
            "         sad       0.85      0.91      0.88        97\n",
            "\n",
            "    accuracy                           0.88       393\n",
            "   macro avg       0.88      0.88      0.88       393\n",
            "weighted avg       0.88      0.88      0.88       393\n",
            "\n",
            "\n",
            "🎵 Sample Predictions:\n",
            "\n",
            "Lyrics: it's a love thing, it's a love thing ( it's a love thing, thing ) the look in your eyes is more than enough to make my poor heart burst into flames be...\n",
            "Actual Emotion: happy\n",
            "Predicted Emotion: happy\n",
            "\n",
            "Lyrics: lyrics from snippet but i still have one wish to make a special one for you merry christmas darling we're apart, thats true but i can dream and in my ...\n",
            "Actual Emotion: happy\n",
            "Predicted Emotion: relaxed\n",
            "\n",
            "Lyrics: i'm really close tonight and i feel like i'm moving inside her lying in the dark and i think that i'm beginning to know her let it go i'll be there wh...\n",
            "Actual Emotion: sad\n",
            "Predicted Emotion: sad\n",
            "\n",
            "Lyrics: meeting you with a view to a kill face to face in secret places, feel the chill nightfall covers me, but you know the plans i'm making still overseas,...\n",
            "Actual Emotion: angry\n",
            "Predicted Emotion: angry\n",
            "\n",
            "Lyrics: i. n. d. u. l. g. e. n. c. e treat yourself love yourself caress yourself don't blame yourself...\n",
            "Actual Emotion: happy\n",
            "Predicted Emotion: happy\n"
          ]
        }
      ]
    },
    {
      "cell_type": "code",
      "source": [
        "import matplotlib.pyplot as plt\n",
        "import seaborn as sns\n",
        "from sklearn.metrics import confusion_matrix\n",
        "\n",
        "# Generate confusion matrix\n",
        "cm = confusion_matrix(all_labels, all_preds)\n",
        "emotions = list(label_map.values())\n",
        "\n",
        "# Plot it\n",
        "plt.figure(figsize=(8, 6))\n",
        "sns.heatmap(cm, annot=True, fmt=\"d\", cmap=\"Blues\", xticklabels=emotions, yticklabels=emotions)\n",
        "plt.xlabel(\"Predicted Emotion\")\n",
        "plt.ylabel(\"Actual Emotion\")\n",
        "plt.title(\"Confusion Matrix - Song Sentiment Classification\")\n",
        "plt.tight_layout()\n",
        "plt.show()\n"
      ],
      "metadata": {
        "colab": {
          "base_uri": "https://localhost:8080/",
          "height": 607
        },
        "id": "1udOlHMW3acK",
        "outputId": "65ef677a-c92a-4039-f979-408af79903ce"
      },
      "execution_count": 76,
      "outputs": [
        {
          "output_type": "display_data",
          "data": {
            "text/plain": [
              "<Figure size 800x600 with 2 Axes>"
            ],
            "image/png": "[encoded data removed]"
          },
          "metadata": {}
        }
      ]
    },
    {
      "cell_type": "markdown",
      "source": [
        "Recommendation system"
      ],
      "metadata": {
        "id": "wMYyDJnzGnCA"
      }
    },
    {
      "cell_type": "code",
      "source": [
        "def recommend_songs(df, predicted_emotion, top_k=5):\n",
        "    recommendations = df[df[\"emotion\"] == predicted_emotion].sample(n=top_k)\n",
        "\n",
        "    print(f\"\\n💡 Based on your feeling, we think you're feeling: **{predicted_emotion.upper()}**\\n\")\n",
        "    print(f\"🎵 Recommended {predicted_emotion.title()} Songs for You:\\n\")\n",
        "\n",
        "    for i, row in recommendations.iterrows():\n",
        "        lyrics_snippet = row['cleaned_lyrics'][:100].replace(\"\\n\", \" \") + \"...\"  # Display first 100 characters\n",
        "        print(f\"- 🎶 \\\"{lyrics_snippet}\\\"\")"
      ],
      "metadata": {
        "id": "hK7ooI6NIbrZ"
      },
      "execution_count": 43,
      "outputs": []
    },
    {
      "cell_type": "code",
      "source": [
        "# Simulate user feeling input\n",
        "user_input = \"I feel like lying on the beach, calm and peaceful\"\n",
        "\n",
        "# Tokenize and move to device\n",
        "inputs = tokenizer(user_input, return_tensors=\"pt\", truncation=True, padding=True).to(device)\n",
        "\n",
        "# Predict emotion using the trained model\n",
        "model.eval()\n",
        "with torch.no_grad():\n",
        "    outputs = model(**inputs)\n",
        "    predicted_label = torch.argmax(outputs.logits, dim=1).item()\n",
        "\n",
        "# Map predicted label to emotion string\n",
        "label_to_emotion = {0: \"angry\", 1: \"happy\", 2: \"relaxed\", 3: \"sad\"}\n",
        "predicted_emotion = label_to_emotion[predicted_label]\n",
        "\n",
        "print(f\"\\n💡 Based on your feeling, we think you're feeling: **{predicted_emotion.upper()}**\\n\")\n",
        "\n",
        "# Recommend songs based on predicted emotion\n",
        "recommend_songs(df, predicted_emotion)"
      ],
      "metadata": {
        "id": "aiV3aMYYJMCH",
        "outputId": "0debebea-a590-4f16-a282-fe17377f4c89",
        "colab": {
          "base_uri": "https://localhost:8080/"
        }
      },
      "execution_count": 44,
      "outputs": [
        {
          "output_type": "stream",
          "name": "stdout",
          "text": [
            "\n",
            "💡 Based on your feeling, we think you're feeling: **RELAXED**\n",
            "\n",
            "\n",
            "💡 Based on your feeling, we think you're feeling: **RELAXED**\n",
            "\n",
            "🎵 Recommended Relaxed Songs for You:\n",
            "\n",
            "- 🎶 \"After work, me and the boys Go down to Killey's and we make some noise Feed that old jukebox and pla...\"\n",
            "- 🎶 \"All the world over, so easy to see People everywhere just wanna be free Listen, please listen, that'...\"\n",
            "- 🎶 \"I saw you there standing under the mango tree Beautiful woman you look so fine to me She had all the...\"\n",
            "- 🎶 \"Hues of blue and green surround me Knowing you have found another love Has turned my world to sorrow...\"\n",
            "- 🎶 \" I saw her sitting in the rain Raindrops falling on her She didn't seem to care She sat there and sm...\"\n"
          ]
        }
      ]
    }
  ]
}