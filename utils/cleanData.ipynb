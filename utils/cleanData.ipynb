{
 "cells": [
  {
   "cell_type": "code",
   "execution_count": 2,
   "id": "554a2d7a",
   "metadata": {},
   "outputs": [],
   "source": [
    "import pandas as pd\n",
    "import os\n",
    "import re\n",
    "\n"
   ]
  },
  {
   "cell_type": "code",
   "execution_count": 5,
   "id": "5df6b138",
   "metadata": {},
   "outputs": [],
   "source": [
    "df = pd.read_csv(\"lyrics_checkpoint.csv\")"
   ]
  },
  {
   "cell_type": "code",
   "execution_count": 16,
   "id": "2c222129",
   "metadata": {},
   "outputs": [
    {
     "name": "stdout",
     "output_type": "stream",
     "text": [
      "0       Yeah, right Usher, baby Okay Yeah man Right (T...\n",
      "1       Ahhhhhhhh You're om my mind Yea Verse1 I'm thi...\n",
      "2       I told ya, I told ya I told ya baby, baby Uh, ...\n",
      "3       [Intro] J. Holiday Oo-oh, oo-oh (Ay-ay-ay, Ay,...\n",
      "4       Yeah, yeah, yeah - ragga so ragga You don't ha...\n",
      "                              ...                        \n",
      "2010    Jonny's in America Lo-Teks at the wheel No one...\n",
      "2011    Wa-war, she's the refugee I see your face, I s...\n",
      "2012    At the dawn of violence The Telkhine wizards m...\n",
      "2013    Life lends a crushing blow And once again a he...\n",
      "2014    Count my fingers ten Dressed to kill and think...\n",
      "Name: lyrics, Length: 2015, dtype: object\n"
     ]
    }
   ],
   "source": [
    "df_lyrics = df['lyrics']\n",
    "\n",
    "df_lyrics.head()\n",
    "\n",
    "# Improved cleaning function\n",
    "def clean_lyrics(text):\n",
    "    # Remove optional contributors, song title, 'Lyrics', and optional tags like [Verse], [Intro]\n",
    "    cleaned_text = re.sub(\n",
    "        r'^.*?(Contributor[s]?)*.*?Lyrics(\\[.*?\\])?', '', text, flags=re.IGNORECASE | re.DOTALL\n",
    "    )\n",
    "    # Also remove bracketed tags like [Intro] or [Verse] at the start if they remain\n",
    "    # cleaned_text = re.sub(r'^\\s*\\[.*?\\]', '', cleaned_text, flags=re.IGNORECASE)\n",
    "    # Remove leading/trailing and extra whitespace\n",
    "    cleaned_text = ' '.join(cleaned_text.split())\n",
    "    return cleaned_text.strip()\n",
    "\n",
    "df['lyrics'] = df['lyrics'].apply(clean_lyrics)\n",
    "\n",
    "print(df['lyrics'])\n",
    "\n",
    "df.to_csv('lyrics_cleaned.csv')"
   ]
  },
  {
   "cell_type": "markdown",
   "id": "e2647c7f",
   "metadata": {},
   "source": [
    "Remove Square Bracket Sections from dataset"
   ]
  },
  {
   "cell_type": "code",
   "execution_count": 15,
   "id": "a0fa5058",
   "metadata": {},
   "outputs": [
    {
     "name": "stdout",
     "output_type": "stream",
     "text": [
      "      Unnamed: 0                artist                         name  emotion  \\\n",
      "0              0                 Usher           There Goes My Baby  relaxed   \n",
      "1              1              Da'Ville                   On My Mind  relaxed   \n",
      "2              2               Rihanna                Rockstar 101   relaxed   \n",
      "3              3            J. Holiday                          Bed  relaxed   \n",
      "4              4       Morgan Heritage            Don't Haffi Dread    angry   \n",
      "...          ...                   ...                          ...      ...   \n",
      "2010        2010           David Bowie      I'm Afraid Of Americans    angry   \n",
      "2011        2011                    U2                  The Refugee    angry   \n",
      "2012        2012  Lair Of The Minotaur                   Evil Power    angry   \n",
      "2013        2013          Jimmy Ruffin  I've Passed This Way Before    angry   \n",
      "2014        2014          High On Fire              Bastard Samurai    angry   \n",
      "\n",
      "                                                 lyrics  index  \\\n",
      "0     Yeah, right Usher, baby Okay Yeah man Right (T...      0   \n",
      "1     Ahhhhhhhh You're om my mind Yea Verse1 I'm thi...      1   \n",
      "2     I told ya, I told ya I told ya baby, baby Uh, ...      2   \n",
      "3     [Intro] J. Holiday Oo-oh, oo-oh (Ay-ay-ay, Ay,...      3   \n",
      "4     Yeah, yeah, yeah - ragga so ragga You don't ha...      4   \n",
      "...                                                 ...    ...   \n",
      "2010  Jonny's in America Lo-Teks at the wheel No one...   2010   \n",
      "2011  Wa-war, she's the refugee I see your face, I s...   2011   \n",
      "2012  At the dawn of violence The Telkhine wizards m...   2012   \n",
      "2013  Life lends a crushing blow And once again a he...   2013   \n",
      "2014  Count my fingers ten Dressed to kill and think...   2014   \n",
      "\n",
      "                                         cleaned_lyrics  \n",
      "0     Yeah, right Usher, baby Okay Yeah man Right (T...  \n",
      "1     Ahhhhhhhh You're om my mind Yea Verse1 I'm thi...  \n",
      "2     I told ya, I told ya I told ya baby, baby Uh, ...  \n",
      "3      J. Holiday Oo-oh, oo-oh (Ay-ay-ay, Ay, Ay-ay-...  \n",
      "4     Yeah, yeah, yeah - ragga so ragga You don't ha...  \n",
      "...                                                 ...  \n",
      "2010  Jonny's in America Lo-Teks at the wheel No one...  \n",
      "2011  Wa-war, she's the refugee I see your face, I s...  \n",
      "2012  At the dawn of violence The Telkhine wizards m...  \n",
      "2013  Life lends a crushing blow And once again a he...  \n",
      "2014  Count my fingers ten Dressed to kill and think...  \n",
      "\n",
      "[2015 rows x 7 columns]\n"
     ]
    }
   ],
   "source": [
    "df = pd.read_csv(\"lyrics_cleaned.csv\")\n",
    "\n",
    "test_string = \"[Verse 1] My life suffocates Planting the seeds of hate I've loved, turned to hate Trapped far beyond my fate I give, you take this life that I forsake Been cheated of my youth You've turned this lie to truth [Pre-Chorus] Anger, misery You'll suffer unto me [Chorus] Harvester of sorrow (Language of the mad) Harvester of sorrow [Verse 2]\"\n",
    "\n",
    "def remove_brackets(text):\n",
    "\n",
    "    start = \"[\"\n",
    "    end = \"]\"\n",
    "\n",
    "    index_start = 0\n",
    "    index_finish = 0\n",
    "    cleaned_text = text\n",
    "    \n",
    "    while index_start != -1 and index_finish != -1:\n",
    "        index_start = cleaned_text.find(start)\n",
    "        index_finish = cleaned_text.find(end, index_start + len(start))\n",
    "        # print(f\"Index Start: {index_start}\")\n",
    "        # print(f\"Index Finish: {index_finish}\")\n",
    "        res = cleaned_text[index_start + len(start) - 1: index_finish + 1]\n",
    "        # print(res)\n",
    "        cleaned_text = cleaned_text.replace(res, '')\n",
    "\n",
    "    return cleaned_text\n",
    "\n",
    "df['cleaned_lyrics'] = df['cleaned_lyrics'].apply(remove_brackets)\n",
    "\n",
    "print(df)\n",
    "\n",
    "df.to_csv('lyrics_cleaned_no_brackets.csv')"
   ]
  },
  {
   "cell_type": "code",
   "execution_count": 23,
   "id": "de63524d",
   "metadata": {},
   "outputs": [],
   "source": [
    "#Remove Not Found Rows\n",
    "\n",
    "df = pd.read_csv('lyrics_cleaned_no_brackets.csv')\n",
    "\n",
    "df = df.drop(df[df['cleaned_lyrics'] == 'not found!'].index)\n",
    "\n",
    "df = df.drop('lyrics', axis=1)\n",
    "\n",
    "df.to_csv(\"lyrics_cleaned_final.csv\")"
   ]
  }
 ],
 "metadata": {
  "kernelspec": {
   "display_name": "song-sentiment-env",
   "language": "python",
   "name": "python3"
  },
  "language_info": {
   "codemirror_mode": {
    "name": "ipython",
    "version": 3
   },
   "file_extension": ".py",
   "mimetype": "text/x-python",
   "name": "python",
   "nbconvert_exporter": "python",
   "pygments_lexer": "ipython3",
   "version": "3.11.11"
  }
 },
 "nbformat": 4,
 "nbformat_minor": 5
}
